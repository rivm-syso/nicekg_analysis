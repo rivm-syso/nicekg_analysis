{
 "cells": [
  {
   "cell_type": "code",
   "execution_count": 1,
   "id": "7732d821-17a1-40dc-8b9c-ed611e01080b",
   "metadata": {},
   "outputs": [],
   "source": [
    "from rdflib import *"
   ]
  },
  {
   "cell_type": "code",
   "execution_count": null,
   "id": "c3f6ba47-aac1-4a83-9e3a-53fea24a267b",
   "metadata": {},
   "outputs": [
    {
     "name": "stdout",
     "output_type": "stream",
     "text": [
      "total leda 3172\n"
     ]
    }
   ],
   "source": [
    "leda_g = Graph()\n",
    "leda_g.parse(\"../../nicekg_processing/data/graph/leda_graph.ttl\")\n",
    "print(\"total leda\", len(leda_g))"
   ]
  },
  {
   "cell_type": "code",
   "execution_count": null,
   "id": "bf446970-8423-4e44-b23c-a41fb6736081",
   "metadata": {},
   "outputs": [
    {
     "name": "stdout",
     "output_type": "stream",
     "text": [
      "total nevo 1594191\n"
     ]
    }
   ],
   "source": [
    "nevo_g = Graph()\n",
    "nevo_g.parse(\"../../nicekg_processing/data/graph/nevo21_graph.ttl\")\n",
    "nevo_g.parse(\"../../nicekg_processing/data/graph/nevo23_graph.ttl\")\n",
    "print(\"total nevo\", len(nevo_g))"
   ]
  },
  {
   "cell_type": "code",
   "execution_count": null,
   "id": "1f97ad39-4218-48c0-b9ec-37961de3618b",
   "metadata": {},
   "outputs": [
    {
     "name": "stdout",
     "output_type": "stream",
     "text": [
      "total lca 27936\n"
     ]
    }
   ],
   "source": [
    "lca_g = Graph()\n",
    "lca_g.parse(\"../../nicekg_processing/data/graph/lca_graph.ttl\")\n",
    "print(\"total lca\", len(lca_g))"
   ]
  },
  {
   "cell_type": "code",
   "execution_count": 6,
   "id": "85004140-da5b-4751-b638-88eaf95bc2e5",
   "metadata": {},
   "outputs": [
    {
     "name": "stdout",
     "output_type": "stream",
     "text": [
      "total kap 262815\n"
     ]
    }
   ],
   "source": [
    "kap_g = Graph()\n",
    "kap_g.parse(\"../../nicekg_processing/data/graph/kap_graph.ttl\")\n",
    "print(\"total kap\", len(kap_g))"
   ]
  },
  {
   "cell_type": "code",
   "execution_count": null,
   "id": "271e894a-aa8c-438f-ab76-866be67d1e5d",
   "metadata": {},
   "outputs": [],
   "source": [
    "total = Graph()\n",
    "total.parse(\"../../nicekg_processing/data/graph/leda_graph.ttl\")\n",
    "total.parse(\"../../nicekg_processing/data/graph/nevo21_graph.ttl\")\n",
    "total.parse(\"../../nicekg_processing/data/graph/nevo23_graph.ttl\")\n",
    "total.parse(\"../../nicekg_processing/data/graph/lca_graph.ttl\")\n",
    "total.parse(\"../../nicekg_processing/data/graph/kap_graph.ttl\")\n",
    "print(\"total size of the graph is\", len(total))"
   ]
  },
  {
   "cell_type": "code",
   "execution_count": null,
   "id": "eabab448",
   "metadata": {},
   "outputs": [],
   "source": []
  }
 ],
 "metadata": {
  "kernelspec": {
   "display_name": "Python 3",
   "language": "python",
   "name": "python3"
  },
  "language_info": {
   "codemirror_mode": {
    "name": "ipython",
    "version": 3
   },
   "file_extension": ".py",
   "mimetype": "text/x-python",
   "name": "python",
   "nbconvert_exporter": "python",
   "pygments_lexer": "ipython3",
   "version": "3.11.13"
  }
 },
 "nbformat": 4,
 "nbformat_minor": 5
}
