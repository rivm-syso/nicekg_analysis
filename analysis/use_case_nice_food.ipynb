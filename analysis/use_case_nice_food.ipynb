{
 "cells": [
  {
   "cell_type": "code",
   "execution_count": 1,
   "metadata": {},
   "outputs": [],
   "source": [
    "# import requried packages \n",
    "import pandas as pd\n",
    "from functions.analysis_helper import calculate_iqr\n",
    "from functions.wrapper_helper import open_query, sparql_query_to_dataframe"
   ]
  },
  {
   "cell_type": "markdown",
   "metadata": {},
   "source": [
    "# General group functions"
   ]
  },
  {
   "cell_type": "markdown",
   "metadata": {},
   "source": [
    "#### global warming potential"
   ]
  },
  {
   "cell_type": "code",
   "execution_count": 2,
   "metadata": {},
   "outputs": [
    {
     "data": {
      "text/html": [
       "<div>\n",
       "<style scoped>\n",
       "    .dataframe tbody tr th:only-of-type {\n",
       "        vertical-align: middle;\n",
       "    }\n",
       "\n",
       "    .dataframe tbody tr th {\n",
       "        vertical-align: top;\n",
       "    }\n",
       "\n",
       "    .dataframe thead th {\n",
       "        text-align: right;\n",
       "    }\n",
       "</style>\n",
       "<table border=\"1\" class=\"dataframe\">\n",
       "  <thead>\n",
       "    <tr style=\"text-align: right;\">\n",
       "      <th></th>\n",
       "      <th>grouplabel</th>\n",
       "      <th>foodname</th>\n",
       "      <th>food_item</th>\n",
       "      <th>impactlabel</th>\n",
       "      <th>value</th>\n",
       "      <th>impactunit</th>\n",
       "    </tr>\n",
       "  </thead>\n",
       "  <tbody>\n",
       "    <tr>\n",
       "      <th>0</th>\n",
       "      <td>Mamallian meat food product</td>\n",
       "      <td>beef roast</td>\n",
       "      <td>https://data.rivm.nl/data/nvip/bigfood/lca24/i...</td>\n",
       "      <td>Global warming</td>\n",
       "      <td>22.825466</td>\n",
       "      <td>kg CO2 eq</td>\n",
       "    </tr>\n",
       "    <tr>\n",
       "      <th>1</th>\n",
       "      <td>Mamallian meat food product</td>\n",
       "      <td>beef, smoked-dried</td>\n",
       "      <td>https://data.rivm.nl/data/nvip/bigfood/lca24/i...</td>\n",
       "      <td>Global warming</td>\n",
       "      <td>20.458994</td>\n",
       "      <td>kg CO2 eq</td>\n",
       "    </tr>\n",
       "    <tr>\n",
       "      <th>2</th>\n",
       "      <td>Mamallian meat food product</td>\n",
       "      <td>minced beef</td>\n",
       "      <td>https://data.rivm.nl/data/nvip/bigfood/lca24/i...</td>\n",
       "      <td>Global warming</td>\n",
       "      <td>18.983002</td>\n",
       "      <td>kg CO2 eq</td>\n",
       "    </tr>\n",
       "    <tr>\n",
       "      <th>3</th>\n",
       "      <td>Mamallian meat food product</td>\n",
       "      <td>minced beef shallow fried</td>\n",
       "      <td>https://data.rivm.nl/data/nvip/bigfood/lca24/i...</td>\n",
       "      <td>Global warming</td>\n",
       "      <td>18.983002</td>\n",
       "      <td>kg CO2 eq</td>\n",
       "    </tr>\n",
       "    <tr>\n",
       "      <th>4</th>\n",
       "      <td>Mamallian meat food product</td>\n",
       "      <td>beef frying steak</td>\n",
       "      <td>https://data.rivm.nl/data/nvip/bigfood/lca24/i...</td>\n",
       "      <td>Global warming</td>\n",
       "      <td>18.648376</td>\n",
       "      <td>kg CO2 eq</td>\n",
       "    </tr>\n",
       "    <tr>\n",
       "      <th>...</th>\n",
       "      <td>...</td>\n",
       "      <td>...</td>\n",
       "      <td>...</td>\n",
       "      <td>...</td>\n",
       "      <td>...</td>\n",
       "      <td>...</td>\n",
       "    </tr>\n",
       "    <tr>\n",
       "      <th>103</th>\n",
       "      <td>Plant fruit food product</td>\n",
       "      <td>banana</td>\n",
       "      <td>https://data.rivm.nl/data/nvip/bigfood/lca24/i...</td>\n",
       "      <td>Global warming</td>\n",
       "      <td>0.259699</td>\n",
       "      <td>kg CO2 eq</td>\n",
       "    </tr>\n",
       "    <tr>\n",
       "      <th>104</th>\n",
       "      <td>Plant fruit food product</td>\n",
       "      <td>pineapple</td>\n",
       "      <td>https://data.rivm.nl/data/nvip/bigfood/lca24/i...</td>\n",
       "      <td>Global warming</td>\n",
       "      <td>0.219746</td>\n",
       "      <td>kg CO2 eq</td>\n",
       "    </tr>\n",
       "    <tr>\n",
       "      <th>105</th>\n",
       "      <td>Plant fruit food product</td>\n",
       "      <td>apple, w skin</td>\n",
       "      <td>https://data.rivm.nl/data/nvip/bigfood/lca24/i...</td>\n",
       "      <td>Global warming</td>\n",
       "      <td>0.213998</td>\n",
       "      <td>kg CO2 eq</td>\n",
       "    </tr>\n",
       "    <tr>\n",
       "      <th>106</th>\n",
       "      <td>Plant fruit food product</td>\n",
       "      <td>apple, wo skin</td>\n",
       "      <td>https://data.rivm.nl/data/nvip/bigfood/lca24/i...</td>\n",
       "      <td>Global warming</td>\n",
       "      <td>0.213998</td>\n",
       "      <td>kg CO2 eq</td>\n",
       "    </tr>\n",
       "    <tr>\n",
       "      <th>107</th>\n",
       "      <td>Plant fruit food product</td>\n",
       "      <td>pear with skin</td>\n",
       "      <td>https://data.rivm.nl/data/nvip/bigfood/lca24/i...</td>\n",
       "      <td>Global warming</td>\n",
       "      <td>0.178623</td>\n",
       "      <td>kg CO2 eq</td>\n",
       "    </tr>\n",
       "  </tbody>\n",
       "</table>\n",
       "<p>108 rows × 6 columns</p>\n",
       "</div>"
      ],
      "text/plain": [
       "                      grouplabel                    foodname  \\\n",
       "0    Mamallian meat food product                 beef roast    \n",
       "1    Mamallian meat food product         beef, smoked-dried    \n",
       "2    Mamallian meat food product               minced beef     \n",
       "3    Mamallian meat food product  minced beef shallow fried    \n",
       "4    Mamallian meat food product          beef frying steak    \n",
       "..                           ...                         ...   \n",
       "103     Plant fruit food product                     banana    \n",
       "104     Plant fruit food product                  pineapple    \n",
       "105     Plant fruit food product              apple, w skin    \n",
       "106     Plant fruit food product             apple, wo skin    \n",
       "107     Plant fruit food product             pear with skin    \n",
       "\n",
       "                                             food_item     impactlabel  \\\n",
       "0    https://data.rivm.nl/data/nvip/bigfood/lca24/i...  Global warming   \n",
       "1    https://data.rivm.nl/data/nvip/bigfood/lca24/i...  Global warming   \n",
       "2    https://data.rivm.nl/data/nvip/bigfood/lca24/i...  Global warming   \n",
       "3    https://data.rivm.nl/data/nvip/bigfood/lca24/i...  Global warming   \n",
       "4    https://data.rivm.nl/data/nvip/bigfood/lca24/i...  Global warming   \n",
       "..                                                 ...             ...   \n",
       "103  https://data.rivm.nl/data/nvip/bigfood/lca24/i...  Global warming   \n",
       "104  https://data.rivm.nl/data/nvip/bigfood/lca24/i...  Global warming   \n",
       "105  https://data.rivm.nl/data/nvip/bigfood/lca24/i...  Global warming   \n",
       "106  https://data.rivm.nl/data/nvip/bigfood/lca24/i...  Global warming   \n",
       "107  https://data.rivm.nl/data/nvip/bigfood/lca24/i...  Global warming   \n",
       "\n",
       "         value impactunit  \n",
       "0    22.825466  kg CO2 eq  \n",
       "1    20.458994  kg CO2 eq  \n",
       "2    18.983002  kg CO2 eq  \n",
       "3    18.983002  kg CO2 eq  \n",
       "4    18.648376  kg CO2 eq  \n",
       "..         ...        ...  \n",
       "103   0.259699  kg CO2 eq  \n",
       "104   0.219746  kg CO2 eq  \n",
       "105   0.213998  kg CO2 eq  \n",
       "106   0.213998  kg CO2 eq  \n",
       "107   0.178623  kg CO2 eq  \n",
       "\n",
       "[108 rows x 6 columns]"
      ]
     },
     "metadata": {},
     "output_type": "display_data"
    }
   ],
   "source": [
    "# Global warming potential\n",
    "endpoint = \"http://localhost:3030/nice_food/sparql\"\n",
    "query_lca = open_query(\"queries/publication/global_warming_groups.rq\")\n",
    "result_impact = sparql_query_to_dataframe(query_lca, endpoint = endpoint)\n",
    "result_impact[\"value\"] = result_impact[\"value\"].astype(float)\n",
    "display(result_impact)"
   ]
  },
  {
   "cell_type": "code",
   "execution_count": 3,
   "metadata": {},
   "outputs": [
    {
     "data": {
      "text/html": [
       "<div>\n",
       "<style scoped>\n",
       "    .dataframe tbody tr th:only-of-type {\n",
       "        vertical-align: middle;\n",
       "    }\n",
       "\n",
       "    .dataframe tbody tr th {\n",
       "        vertical-align: top;\n",
       "    }\n",
       "\n",
       "    .dataframe thead th {\n",
       "        text-align: right;\n",
       "    }\n",
       "</style>\n",
       "<table border=\"1\" class=\"dataframe\">\n",
       "  <thead>\n",
       "    <tr style=\"text-align: right;\">\n",
       "      <th></th>\n",
       "      <th>value</th>\n",
       "    </tr>\n",
       "    <tr>\n",
       "      <th>grouplabel</th>\n",
       "      <th></th>\n",
       "    </tr>\n",
       "  </thead>\n",
       "  <tbody>\n",
       "    <tr>\n",
       "      <th>Fish food product</th>\n",
       "      <td>(1.0, 4.1, 5.1)</td>\n",
       "    </tr>\n",
       "    <tr>\n",
       "      <th>Legume food product</th>\n",
       "      <td>(1.2, 2.0, 2.7)</td>\n",
       "    </tr>\n",
       "    <tr>\n",
       "      <th>Mamallian meat food product</th>\n",
       "      <td>(7.1, 10.9, 15.9)</td>\n",
       "    </tr>\n",
       "    <tr>\n",
       "      <th>Plant fruit food product</th>\n",
       "      <td>(0.4, 1.1, 1.7)</td>\n",
       "    </tr>\n",
       "  </tbody>\n",
       "</table>\n",
       "</div>"
      ],
      "text/plain": [
       "                                         value\n",
       "grouplabel                                    \n",
       "Fish food product              (1.0, 4.1, 5.1)\n",
       "Legume food product            (1.2, 2.0, 2.7)\n",
       "Mamallian meat food product  (7.1, 10.9, 15.9)\n",
       "Plant fruit food product       (0.4, 1.1, 1.7)"
      ]
     },
     "execution_count": 3,
     "metadata": {},
     "output_type": "execute_result"
    }
   ],
   "source": [
    "# quartile calculation for (first quartile , mean, third quartile)\n",
    "iqr_table = result_impact.groupby([\"grouplabel\"])[\"value\"].apply(calculate_iqr)\n",
    "pd.DataFrame(iqr_table)"
   ]
  },
  {
   "cell_type": "code",
   "execution_count": 5,
   "metadata": {},
   "outputs": [
    {
     "data": {
      "image/png": "[encoded data removed]",
      "text/plain": [
       "<Figure size 750x500 with 1 Axes>"
      ]
     },
     "metadata": {},
     "output_type": "display_data"
    }
   ],
   "source": [
    "import matplotlib.colors as mcolors\n",
    "import matplotlib.pyplot as plt\n",
    "# figure impact \n",
    "import seaborn as sns\n",
    "\n",
    "from local_path import path_figure_4b\n",
    "\n",
    "order = ['Mamallian meat food product', 'Fish food product', 'Legume food product', 'Plant fruit food product'] \n",
    "\n",
    "palette = sns.color_palette(\"Set2\")\n",
    "palette_hex = [mcolors.rgb2hex(color) for color in palette][0:4] \n",
    "palette_hex\n",
    "\n",
    "plt.figure(figsize =(7.5,5))\n",
    "sns.stripplot(data=result_impact, y='grouplabel', hue = \"grouplabel\", x='value', \n",
    "              jitter= True, alpha =0.7, palette = \"Set2\", hue_order=order, order = order, size = 8)\n",
    "\n",
    "sns.boxplot(showmeans=True,\n",
    "            meanline=True,\n",
    "            meanprops={'color': 'k', 'ls': '-', 'lw': 1.2},\n",
    "            medianprops={'visible': False},\n",
    "            whiskerprops={'visible': False},\n",
    "            zorder=4,\n",
    "            x=\"value\",\n",
    "            y=\"grouplabel\",\n",
    "            data=result_impact,\n",
    "            showfliers=False,\n",
    "            showbox=False,\n",
    "            showcaps=False)\n",
    "\n",
    "# Add titles and labels\n",
    "sns.despine()\n",
    "plt.title('Global warming potential of FoodOn foodgroups', pad = 30, fontsize = 16, ha = \"center\")\n",
    "plt.xlabel('Global Warming potential in kg CO2 equivalent / kg', labelpad= 20, fontsize = 16, ha = \"center\")\n",
    "plt.ylabel('FoodOn food group', fontsize = 16)\n",
    "plt.xticks(fontsize=14)\n",
    "plt.yticks(fontsize=14)\n",
    "\n",
    "# plt.show()\n",
    "plt.savefig(path_figure_4b, format='svg',  bbox_inches=\"tight\")\n",
    "plt.savefig(\"figures/globalwarming_fig.svg\", format='svg',  bbox_inches=\"tight\")"
   ]
  },
  {
   "cell_type": "markdown",
   "metadata": {},
   "source": [
    "#### protein content "
   ]
  },
  {
   "cell_type": "code",
   "execution_count": 6,
   "metadata": {},
   "outputs": [
    {
     "data": {
      "application/vnd.microsoft.datawrangler.viewer.v0+json": {
       "columns": [
        {
         "name": "index",
         "rawType": "int64",
         "type": "integer"
        },
        {
         "name": "grouplabel",
         "rawType": "object",
         "type": "string"
        },
        {
         "name": "foodname",
         "rawType": "object",
         "type": "string"
        },
        {
         "name": "nutrientclasslabel",
         "rawType": "object",
         "type": "string"
        },
        {
         "name": "value",
         "rawType": "float64",
         "type": "float"
        },
        {
         "name": "unitlabel",
         "rawType": "object",
         "type": "string"
        }
       ],
       "ref": "1f01f5fa-10f0-4233-a928-22483903886a",
       "rows": [
        [
         "0",
         "Fish food product",
         "Cod dried salted",
         "Protein total",
         "82.0",
         "g"
        ],
        [
         "1",
         "Mamallian meat food product",
         "Beef salted dried Surinam",
         "Protein total",
         "65.0",
         "g"
        ],
        [
         "2",
         "Mamallian meat food product",
         "Pork stewing meat prepared",
         "Protein total",
         "37.4",
         "g"
        ],
        [
         "3",
         "Mamallian meat food product",
         "Pork gammon steak prepared",
         "Protein total",
         "37.1",
         "g"
        ],
        [
         "4",
         "Mamallian meat food product",
         "Pork shoulder chop prepared",
         "Protein total",
         "37.1",
         "g"
        ],
        [
         "5",
         "Mamallian meat food product",
         "Beef breast boneless prepared",
         "Protein total",
         "36.8",
         "g"
        ],
        [
         "6",
         "Legume food product",
         "Beans soya dried",
         "Protein total",
         "35.9",
         "g"
        ],
        [
         "7",
         "Mamallian meat food product",
         "Beef streaked/marbled prepared",
         "Protein total",
         "34.6",
         "g"
        ],
        [
         "8",
         "Mamallian meat food product",
         "Beef T-bone steak prepared",
         "Protein total",
         "33.6",
         "g"
        ],
        [
         "9",
         "Mamallian meat food product",
         "Beef rolled prepared",
         "Protein total",
         "33.5",
         "g"
        ],
        [
         "10",
         "Fish food product",
         "Cod dried, salted, soaked, boiled",
         "Protein total",
         "32.5",
         "g"
        ],
        [
         "11",
         "Fish food product",
         "Stockfish soaked",
         "Protein total",
         "32.5",
         "g"
        ],
        [
         "12",
         "Mamallian meat food product",
         "Pork fricandeau part of leg prepared",
         "Protein total",
         "31.2",
         "g"
        ],
        [
         "13",
         "Mamallian meat food product",
         "Pork chop prepared",
         "Protein total",
         "31.1",
         "g"
        ],
        [
         "14",
         "Mamallian meat food product",
         "Beef prime rib prepared",
         "Protein total",
         "31.0",
         "g"
        ],
        [
         "15",
         "Mamallian meat food product",
         "Minced beef shallow fried",
         "Protein total",
         "30.4",
         "g"
        ],
        [
         "16",
         "Mamallian meat food product",
         "Beef steak tartare prepared",
         "Protein total",
         "30.1",
         "g"
        ],
        [
         "17",
         "Mamallian meat food product",
         "Minced beef/pork shallow fried",
         "Protein total",
         "30.1",
         "g"
        ],
        [
         "18",
         "Mamallian meat food product",
         "Beef salted dried seasoned Pastirma Turkish",
         "Protein total",
         "30.0",
         "g"
        ],
        [
         "19",
         "Mamallian meat food product",
         "Pork steak/chop prepared",
         "Protein total",
         "29.8",
         "g"
        ],
        [
         "20",
         "Mamallian meat food product",
         "Beef <10% fat prepared av",
         "Protein total",
         "29.7",
         "g"
        ],
        [
         "21",
         "Mamallian meat food product",
         "Beef ribeye steak prepared",
         "Protein total",
         "29.6",
         "g"
        ],
        [
         "22",
         "Mamallian meat food product",
         "Minced beef lean shallow fried",
         "Protein total",
         "29.6",
         "g"
        ],
        [
         "23",
         "Mamallian meat food product",
         "Pork sparerib prepared",
         "Protein total",
         "29.5",
         "g"
        ],
        [
         "24",
         "Mamallian meat food product",
         "Beef rump steak prepared",
         "Protein total",
         "29.3",
         "g"
        ],
        [
         "25",
         "Fish food product",
         "Tuna prepared wo fat",
         "Protein total",
         "29.2",
         "g"
        ],
        [
         "26",
         "Mamallian meat food product",
         "Bacon rasher prepared in own fat",
         "Protein total",
         "29.1",
         "g"
        ],
        [
         "27",
         "Mamallian meat food product",
         "Pork <10% fat prepared av",
         "Protein total",
         "29.0",
         "g"
        ],
        [
         "28",
         "Mamallian meat food product",
         "Pork 10-19% fat prepared av",
         "Protein total",
         "28.9",
         "g"
        ],
        [
         "29",
         "Mamallian meat food product",
         "Pork fillet prepared",
         "Protein total",
         "28.7",
         "g"
        ],
        [
         "30",
         "Mamallian meat food product",
         "Pork tenderloin medaillon prepared",
         "Protein total",
         "28.7",
         "g"
        ],
        [
         "31",
         "Mamallian meat food product",
         "Pork tenderloin prepared",
         "Protein total",
         "28.7",
         "g"
        ],
        [
         "32",
         "Mamallian meat food product",
         "Pork loin chop prepared",
         "Protein total",
         "28.5",
         "g"
        ],
        [
         "33",
         "Mamallian meat food product",
         "Pork rib chop prepared",
         "Protein total",
         "28.4",
         "g"
        ],
        [
         "34",
         "Mamallian meat food product",
         "Pork schnitzel not breaded prepared",
         "Protein total",
         "28.3",
         "g"
        ],
        [
         "35",
         "Mamallian meat food product",
         "Pork shoarma seasoning prepared",
         "Protein total",
         "28.2",
         "g"
        ],
        [
         "36",
         "Mamallian meat food product",
         "Liver calf's prepared",
         "Protein total",
         "27.9",
         "g"
        ],
        [
         "37",
         "Mamallian meat food product",
         "Liver pork prepared",
         "Protein total",
         "27.9",
         "g"
        ],
        [
         "38",
         "Mamallian meat food product",
         "Pork shoulder prepared",
         "Protein total",
         "27.6",
         "g"
        ],
        [
         "39",
         "Mamallian meat food product",
         "Beef frying steak prepared",
         "Protein total",
         "27.5",
         "g"
        ],
        [
         "40",
         "Mamallian meat food product",
         "Beef salted cooked Surinam",
         "Protein total",
         "27.4",
         "g"
        ],
        [
         "41",
         "Mamallian meat food product",
         "Minced beef ball prepared w egg/crumbs",
         "Protein total",
         "27.0",
         "g"
        ],
        [
         "42",
         "Fish food product",
         "Tuna in oil tinned",
         "Protein total",
         "27.0",
         "g"
        ],
        [
         "43",
         "Mamallian meat food product",
         "Minced beef ball prepared wo egg",
         "Protein total",
         "26.5",
         "g"
        ],
        [
         "44",
         "Mamallian meat food product",
         "Minced pork prepared",
         "Protein total",
         "26.4",
         "g"
        ],
        [
         "45",
         "Mamallian meat food product",
         "Minced beef kofte Turkish prepared",
         "Protein total",
         "25.8",
         "g"
        ],
        [
         "46",
         "Mamallian meat food product",
         "Bacon lean prepared",
         "Protein total",
         "25.7",
         "g"
        ],
        [
         "47",
         "Fish food product",
         "Salmon farmed prep in microwave oven no ingredients added",
         "Protein total",
         "25.2",
         "g"
        ],
        [
         "48",
         "Fish food product",
         "Anchovy in oil canned",
         "Protein total",
         "25.0",
         "g"
        ],
        [
         "49",
         "Mamallian meat food product",
         "Bacon fat smoked prepared",
         "Protein total",
         "25.0",
         "g"
        ]
       ],
       "shape": {
        "columns": 5,
        "rows": 408
       }
      },
      "text/html": [
       "<div>\n",
       "<style scoped>\n",
       "    .dataframe tbody tr th:only-of-type {\n",
       "        vertical-align: middle;\n",
       "    }\n",
       "\n",
       "    .dataframe tbody tr th {\n",
       "        vertical-align: top;\n",
       "    }\n",
       "\n",
       "    .dataframe thead th {\n",
       "        text-align: right;\n",
       "    }\n",
       "</style>\n",
       "<table border=\"1\" class=\"dataframe\">\n",
       "  <thead>\n",
       "    <tr style=\"text-align: right;\">\n",
       "      <th></th>\n",
       "      <th>grouplabel</th>\n",
       "      <th>foodname</th>\n",
       "      <th>nutrientclasslabel</th>\n",
       "      <th>value</th>\n",
       "      <th>unitlabel</th>\n",
       "    </tr>\n",
       "  </thead>\n",
       "  <tbody>\n",
       "    <tr>\n",
       "      <th>0</th>\n",
       "      <td>Fish food product</td>\n",
       "      <td>Cod dried salted</td>\n",
       "      <td>Protein total</td>\n",
       "      <td>82.0</td>\n",
       "      <td>g</td>\n",
       "    </tr>\n",
       "    <tr>\n",
       "      <th>1</th>\n",
       "      <td>Mamallian meat food product</td>\n",
       "      <td>Beef salted dried Surinam</td>\n",
       "      <td>Protein total</td>\n",
       "      <td>65.0</td>\n",
       "      <td>g</td>\n",
       "    </tr>\n",
       "    <tr>\n",
       "      <th>2</th>\n",
       "      <td>Mamallian meat food product</td>\n",
       "      <td>Pork stewing meat prepared</td>\n",
       "      <td>Protein total</td>\n",
       "      <td>37.4</td>\n",
       "      <td>g</td>\n",
       "    </tr>\n",
       "    <tr>\n",
       "      <th>3</th>\n",
       "      <td>Mamallian meat food product</td>\n",
       "      <td>Pork gammon steak prepared</td>\n",
       "      <td>Protein total</td>\n",
       "      <td>37.1</td>\n",
       "      <td>g</td>\n",
       "    </tr>\n",
       "    <tr>\n",
       "      <th>4</th>\n",
       "      <td>Mamallian meat food product</td>\n",
       "      <td>Pork shoulder chop prepared</td>\n",
       "      <td>Protein total</td>\n",
       "      <td>37.1</td>\n",
       "      <td>g</td>\n",
       "    </tr>\n",
       "    <tr>\n",
       "      <th>...</th>\n",
       "      <td>...</td>\n",
       "      <td>...</td>\n",
       "      <td>...</td>\n",
       "      <td>...</td>\n",
       "      <td>...</td>\n",
       "    </tr>\n",
       "    <tr>\n",
       "      <th>403</th>\n",
       "      <td>Plant fruit food product</td>\n",
       "      <td>Apple sauce tinned</td>\n",
       "      <td>Protein total</td>\n",
       "      <td>0.2</td>\n",
       "      <td>g</td>\n",
       "    </tr>\n",
       "    <tr>\n",
       "      <th>404</th>\n",
       "      <td>Plant fruit food product</td>\n",
       "      <td>Apple sauce wo sugar tinned</td>\n",
       "      <td>Protein total</td>\n",
       "      <td>0.2</td>\n",
       "      <td>g</td>\n",
       "    </tr>\n",
       "    <tr>\n",
       "      <th>405</th>\n",
       "      <td>Plant fruit food product</td>\n",
       "      <td>Apple wo skin av</td>\n",
       "      <td>Protein total</td>\n",
       "      <td>0.2</td>\n",
       "      <td>g</td>\n",
       "    </tr>\n",
       "    <tr>\n",
       "      <th>406</th>\n",
       "      <td>Plant fruit food product</td>\n",
       "      <td>Pear w skin</td>\n",
       "      <td>Protein total</td>\n",
       "      <td>0.2</td>\n",
       "      <td>g</td>\n",
       "    </tr>\n",
       "    <tr>\n",
       "      <th>407</th>\n",
       "      <td>Mamallian meat food product</td>\n",
       "      <td>Fat chicken</td>\n",
       "      <td>Protein total</td>\n",
       "      <td>0.0</td>\n",
       "      <td>g</td>\n",
       "    </tr>\n",
       "  </tbody>\n",
       "</table>\n",
       "<p>408 rows × 5 columns</p>\n",
       "</div>"
      ],
      "text/plain": [
       "                      grouplabel                     foodname  \\\n",
       "0              Fish food product             Cod dried salted   \n",
       "1    Mamallian meat food product    Beef salted dried Surinam   \n",
       "2    Mamallian meat food product   Pork stewing meat prepared   \n",
       "3    Mamallian meat food product   Pork gammon steak prepared   \n",
       "4    Mamallian meat food product  Pork shoulder chop prepared   \n",
       "..                           ...                          ...   \n",
       "403     Plant fruit food product           Apple sauce tinned   \n",
       "404     Plant fruit food product  Apple sauce wo sugar tinned   \n",
       "405     Plant fruit food product             Apple wo skin av   \n",
       "406     Plant fruit food product                  Pear w skin   \n",
       "407  Mamallian meat food product                  Fat chicken   \n",
       "\n",
       "    nutrientclasslabel  value unitlabel  \n",
       "0        Protein total   82.0         g  \n",
       "1        Protein total   65.0         g  \n",
       "2        Protein total   37.4         g  \n",
       "3        Protein total   37.1         g  \n",
       "4        Protein total   37.1         g  \n",
       "..                 ...    ...       ...  \n",
       "403      Protein total    0.2         g  \n",
       "404      Protein total    0.2         g  \n",
       "405      Protein total    0.2         g  \n",
       "406      Protein total    0.2         g  \n",
       "407      Protein total    0.0         g  \n",
       "\n",
       "[408 rows x 5 columns]"
      ]
     },
     "metadata": {},
     "output_type": "display_data"
    }
   ],
   "source": [
    "# Protein content\n",
    "query_protein = open_query(\"queries/publication/protein_groups.rq\")\n",
    "result_protein = sparql_query_to_dataframe(query_protein, endpoint = endpoint)\n",
    "result_protein[\"value\"] = result_protein[\"value\"].astype(float)\n",
    "display(result_protein)"
   ]
  },
  {
   "cell_type": "code",
   "execution_count": 9,
   "metadata": {},
   "outputs": [
    {
     "data": {
      "application/vnd.microsoft.datawrangler.viewer.v0+json": {
       "columns": [
        {
         "name": "index",
         "rawType": "int64",
         "type": "integer"
        },
        {
         "name": "grouplabel",
         "rawType": "object",
         "type": "string"
        },
        {
         "name": "foodname",
         "rawType": "object",
         "type": "string"
        },
        {
         "name": "nutrientclasslabel",
         "rawType": "object",
         "type": "string"
        },
        {
         "name": "value",
         "rawType": "float64",
         "type": "float"
        },
        {
         "name": "unitlabel",
         "rawType": "object",
         "type": "string"
        }
       ],
       "ref": "8e549cae-bf1e-49ea-8c98-1e0dacba49cc",
       "rows": [
        [
         "205",
         "Plant fruit food product",
         "Goji berries dried",
         "Protein total",
         "14.3",
         "g"
        ],
        [
         "208",
         "Plant fruit food product",
         "Tomato sun-dried",
         "Protein total",
         "14.1",
         "g"
        ],
        [
         "224",
         "Plant fruit food product",
         "Chilli powder",
         "Protein total",
         "12.0",
         "g"
        ],
        [
         "226",
         "Plant fruit food product",
         "Pepper red cayenne",
         "Protein total",
         "12.0",
         "g"
        ]
       ],
       "shape": {
        "columns": 5,
        "rows": 4
       }
      },
      "text/html": [
       "<div>\n",
       "<style scoped>\n",
       "    .dataframe tbody tr th:only-of-type {\n",
       "        vertical-align: middle;\n",
       "    }\n",
       "\n",
       "    .dataframe tbody tr th {\n",
       "        vertical-align: top;\n",
       "    }\n",
       "\n",
       "    .dataframe thead th {\n",
       "        text-align: right;\n",
       "    }\n",
       "</style>\n",
       "<table border=\"1\" class=\"dataframe\">\n",
       "  <thead>\n",
       "    <tr style=\"text-align: right;\">\n",
       "      <th></th>\n",
       "      <th>grouplabel</th>\n",
       "      <th>foodname</th>\n",
       "      <th>nutrientclasslabel</th>\n",
       "      <th>value</th>\n",
       "      <th>unitlabel</th>\n",
       "    </tr>\n",
       "  </thead>\n",
       "  <tbody>\n",
       "    <tr>\n",
       "      <th>205</th>\n",
       "      <td>Plant fruit food product</td>\n",
       "      <td>Goji berries dried</td>\n",
       "      <td>Protein total</td>\n",
       "      <td>14.3</td>\n",
       "      <td>g</td>\n",
       "    </tr>\n",
       "    <tr>\n",
       "      <th>208</th>\n",
       "      <td>Plant fruit food product</td>\n",
       "      <td>Tomato sun-dried</td>\n",
       "      <td>Protein total</td>\n",
       "      <td>14.1</td>\n",
       "      <td>g</td>\n",
       "    </tr>\n",
       "    <tr>\n",
       "      <th>224</th>\n",
       "      <td>Plant fruit food product</td>\n",
       "      <td>Chilli powder</td>\n",
       "      <td>Protein total</td>\n",
       "      <td>12.0</td>\n",
       "      <td>g</td>\n",
       "    </tr>\n",
       "    <tr>\n",
       "      <th>226</th>\n",
       "      <td>Plant fruit food product</td>\n",
       "      <td>Pepper red cayenne</td>\n",
       "      <td>Protein total</td>\n",
       "      <td>12.0</td>\n",
       "      <td>g</td>\n",
       "    </tr>\n",
       "  </tbody>\n",
       "</table>\n",
       "</div>"
      ],
      "text/plain": [
       "                   grouplabel            foodname nutrientclasslabel  value  \\\n",
       "205  Plant fruit food product  Goji berries dried      Protein total   14.3   \n",
       "208  Plant fruit food product    Tomato sun-dried      Protein total   14.1   \n",
       "224  Plant fruit food product       Chilli powder      Protein total   12.0   \n",
       "226  Plant fruit food product  Pepper red cayenne      Protein total   12.0   \n",
       "\n",
       "    unitlabel  \n",
       "205         g  \n",
       "208         g  \n",
       "224         g  \n",
       "226         g  "
      ]
     },
     "execution_count": 9,
     "metadata": {},
     "output_type": "execute_result"
    }
   ],
   "source": [
    "#Sanity check what kind of plant food products are high in protein\n",
    "result_protein[(result_protein[\"value\"] > 10) & (result_protein[\"grouplabel\"] == \"Plant fruit food product\")]"
   ]
  },
  {
   "cell_type": "code",
   "execution_count": null,
   "metadata": {},
   "outputs": [
    {
     "data": {
      "application/vnd.microsoft.datawrangler.viewer.v0+json": {
       "columns": [
        {
         "name": "grouplabel",
         "rawType": "object",
         "type": "string"
        },
        {
         "name": "value",
         "rawType": "object",
         "type": "unknown"
        }
       ],
       "ref": "c174f84c-432b-4656-a9d9-2565a054ab02",
       "rows": [
        [
         "Fish food product",
         "(np.float64(17.6), np.float64(21.4), np.float64(23.8))"
        ],
        [
         "Legume food product",
         "(np.float64(4.4), np.float64(10.1), np.float64(14.6))"
        ],
        [
         "Mamallian meat food product",
         "(np.float64(16.8), np.float64(21.5), np.float64(25.8))"
        ],
        [
         "Plant fruit food product",
         "(np.float64(0.5), np.float64(1.5), np.float64(1.3))"
        ]
       ],
       "shape": {
        "columns": 1,
        "rows": 4
       }
      },
      "text/html": [
       "<div>\n",
       "<style scoped>\n",
       "    .dataframe tbody tr th:only-of-type {\n",
       "        vertical-align: middle;\n",
       "    }\n",
       "\n",
       "    .dataframe tbody tr th {\n",
       "        vertical-align: top;\n",
       "    }\n",
       "\n",
       "    .dataframe thead th {\n",
       "        text-align: right;\n",
       "    }\n",
       "</style>\n",
       "<table border=\"1\" class=\"dataframe\">\n",
       "  <thead>\n",
       "    <tr style=\"text-align: right;\">\n",
       "      <th></th>\n",
       "      <th>value</th>\n",
       "    </tr>\n",
       "    <tr>\n",
       "      <th>grouplabel</th>\n",
       "      <th></th>\n",
       "    </tr>\n",
       "  </thead>\n",
       "  <tbody>\n",
       "    <tr>\n",
       "      <th>Fish food product</th>\n",
       "      <td>(17.6, 21.4, 23.8)</td>\n",
       "    </tr>\n",
       "    <tr>\n",
       "      <th>Legume food product</th>\n",
       "      <td>(4.4, 10.1, 14.6)</td>\n",
       "    </tr>\n",
       "    <tr>\n",
       "      <th>Mamallian meat food product</th>\n",
       "      <td>(16.8, 21.5, 25.8)</td>\n",
       "    </tr>\n",
       "    <tr>\n",
       "      <th>Plant fruit food product</th>\n",
       "      <td>(0.5, 1.5, 1.3)</td>\n",
       "    </tr>\n",
       "  </tbody>\n",
       "</table>\n",
       "</div>"
      ],
      "text/plain": [
       "                                          value\n",
       "grouplabel                                     \n",
       "Fish food product            (17.6, 21.4, 23.8)\n",
       "Legume food product           (4.4, 10.1, 14.6)\n",
       "Mamallian meat food product  (16.8, 21.5, 25.8)\n",
       "Plant fruit food product        (0.5, 1.5, 1.3)"
      ]
     },
     "execution_count": 10,
     "metadata": {},
     "output_type": "execute_result"
    }
   ],
   "source": [
    "# quartile calculation for (first quartile , mean, third quartile)\n",
    "iqr_table = result_protein.groupby([\"grouplabel\"])[\"value\"].apply(calculate_iqr)\n",
    "pd.DataFrame(iqr_table)"
   ]
  },
  {
   "cell_type": "code",
   "execution_count": 11,
   "metadata": {},
   "outputs": [
    {
     "data": {
      "image/png": "[encoded data removed]",
      "text/plain": [
       "<Figure size 700x500 with 1 Axes>"
      ]
     },
     "metadata": {},
     "output_type": "display_data"
    }
   ],
   "source": [
    "import matplotlib.pyplot as plt\n",
    "# figure impact \n",
    "import seaborn as sns\n",
    "\n",
    "from local_path import path_figure_4a\n",
    "\n",
    "order = ['Mamallian meat food product', 'Fish food product', 'Legume food product', 'Plant fruit food product'] \n",
    "\n",
    "plt.figure(figsize =(7,5))\n",
    "sns.stripplot(data=result_protein, y='grouplabel', hue = \"grouplabel\", x='value', \n",
    "              jitter= True, alpha =0.6, palette = \"Set2\", hue_order = order, order = order, size = 8)\n",
    "\n",
    "sns.boxplot(showmeans=True,\n",
    "            meanline=True,\n",
    "            meanprops={'color': 'k', 'ls': '-', 'lw': 1.2},\n",
    "            medianprops={'visible': False},\n",
    "            whiskerprops={'visible': False},\n",
    "            zorder=4,\n",
    "            x=\"value\",\n",
    "            y=\"grouplabel\",\n",
    "            data=result_protein,\n",
    "            showfliers=False,\n",
    "            showbox=False,\n",
    "            showcaps=False)\n",
    "# Add titles and labels\n",
    "\n",
    "sns.despine()\n",
    "\n",
    "# Add titles and labels\n",
    "plt.title('Protein concentration in FoodOn foodgroups', pad = 30, fontsize = 16, ha = \"center\")\n",
    "plt.xlabel('Protein content g/100g',  labelpad= 20, fontsize = 16)\n",
    "plt.ylabel('FoodOn food group',  fontsize = 16)\n",
    "# plt.tight_layout()\n",
    "\n",
    "plt.xticks(fontsize=14)\n",
    "plt.yticks(fontsize=14)\n",
    "\n",
    "# plt.show()\n",
    "plt.savefig(path_figure_4a, format='svg',  bbox_inches=\"tight\")\n",
    "plt.savefig(\"figures/protein_conc_fig.svg\")"
   ]
  },
  {
   "cell_type": "markdown",
   "metadata": {},
   "source": [
    "#### heavy metals"
   ]
  },
  {
   "cell_type": "code",
   "execution_count": 12,
   "metadata": {},
   "outputs": [
    {
     "data": {
      "application/vnd.microsoft.datawrangler.viewer.v0+json": {
       "columns": [
        {
         "name": "index",
         "rawType": "int64",
         "type": "integer"
        },
        {
         "name": "grouplabel",
         "rawType": "object",
         "type": "string"
        },
        {
         "name": "foodname",
         "rawType": "object",
         "type": "string"
        },
        {
         "name": "propertylabel",
         "rawType": "object",
         "type": "string"
        },
        {
         "name": "value",
         "rawType": "float64",
         "type": "float"
        },
        {
         "name": "unitlabel",
         "rawType": "object",
         "type": "string"
        }
       ],
       "ref": "a0330465-013c-4175-8b03-1231e007a765",
       "rows": [
        [
         "0",
         "Legume food product",
         "PEANUT",
         "MERCURY (TOTAL)",
         "0.00165",
         "MG/KG"
        ],
        [
         "1",
         "Legume food product",
         "LEGUME (FRESH)",
         "MERCURY (TOTAL)",
         "0.0005",
         "MG/KG"
        ],
        [
         "2",
         "Legume food product",
         "PEA (WITHOUT POD)",
         "MERCURY (TOTAL)",
         "0.0075",
         "MG/KG"
        ],
        [
         "3",
         "Legume food product",
         "PEAS (WITH PODS)",
         "MERCURY (TOTAL)",
         "0.0012875",
         "MG/KG"
        ],
        [
         "4",
         "Legume food product",
         "PEA (DRY HARVESTED)",
         "MERCURY (TOTAL)",
         "0.003425",
         "MG/KG"
        ],
        [
         "5",
         "Legume food product",
         "GREEN BEANS (FRESH)",
         "MERCURY (TOTAL)",
         "0.0005",
         "MG/KG"
        ],
        [
         "6",
         "Legume food product",
         "BEAN (WITH POD, FRESH)",
         "MERCURY (TOTAL)",
         "0.00065625",
         "MG/KG"
        ],
        [
         "7",
         "Legume food product",
         "BEAN (WITHOUT POD, FRESH)",
         "MERCURY (TOTAL)",
         "0.0005",
         "MG/KG"
        ],
        [
         "8",
         "Legume food product",
         "CHICK PEA",
         "MERCURY (TOTAL)",
         "0.002",
         "MG/KG"
        ],
        [
         "9",
         "Legume food product",
         "BROAD BEAN",
         "MERCURY (TOTAL)",
         "0.00175",
         "MG/KG"
        ],
        [
         "10",
         "Legume food product",
         "MUNG BEAN",
         "MERCURY (TOTAL)",
         "0.01",
         "MG/KG"
        ],
        [
         "11",
         "Legume food product",
         "SOY BEAN",
         "MERCURY (TOTAL)",
         "0.0028333333",
         "MG/KG"
        ],
        [
         "12",
         "Fish food product",
         "SALMON",
         "MERCURY (TOTAL)",
         "0.007",
         "MG/KG"
        ],
        [
         "13",
         "Fish food product",
         "SALMON (CULTIVATED)",
         "MERCURY (TOTAL)",
         "0.033",
         "MG/KG"
        ],
        [
         "14",
         "Fish food product",
         "TROUT",
         "MERCURY (TOTAL)",
         "0.047",
         "MG/KG"
        ],
        [
         "15",
         "Fish food product",
         "MACKEREL",
         "MERCURY (TOTAL)",
         "0.06725",
         "MG/KG"
        ],
        [
         "16",
         "Fish food product",
         "COD",
         "MERCURY (TOTAL)",
         "0.06769231",
         "MG/KG"
        ],
        [
         "17",
         "Fish food product",
         "TUNA",
         "MERCURY (TOTAL)",
         "0.37217242",
         "MG/KG"
        ],
        [
         "18",
         "Fish food product",
         "EEL",
         "MERCURY (TOTAL)",
         "0.061",
         "MG/KG"
        ],
        [
         "19",
         "Fish food product",
         "EEL (CULTIVATED)",
         "MERCURY (TOTAL)",
         "0.103",
         "MG/KG"
        ],
        [
         "20",
         "Fish food product",
         "HADDOCK",
         "MERCURY (TOTAL)",
         "0.05",
         "MG/KG"
        ],
        [
         "21",
         "Fish food product",
         "BLUE WHITING",
         "MERCURY (TOTAL)",
         "0.14666666",
         "MG/KG"
        ],
        [
         "22",
         "Fish food product",
         "WHITING",
         "MERCURY (TOTAL)",
         "0.0995",
         "MG/KG"
        ],
        [
         "23",
         "Fish food product",
         "SARDINES",
         "MERCURY (TOTAL)",
         "0.019",
         "MG/KG"
        ],
        [
         "24",
         "Fish food product",
         "SWORDFISH",
         "MERCURY (TOTAL)",
         "0.93666667",
         "MG/KG"
        ],
        [
         "25",
         "Fish food product",
         "BREAM",
         "MERCURY (TOTAL)",
         "0.13",
         "MG/KG"
        ],
        [
         "26",
         "Fish food product",
         "HERRING",
         "MERCURY (TOTAL)",
         "0.026",
         "MG/KG"
        ],
        [
         "27",
         "Fish food product",
         "SEA BASS",
         "MERCURY (TOTAL)",
         "0.04109091",
         "MG/KG"
        ],
        [
         "28",
         "Fish food product",
         "HORSE MACKEREL",
         "MERCURY (TOTAL)",
         "0.096",
         "MG/KG"
        ],
        [
         "29",
         "Fish food product",
         "PIKE PERCH",
         "MERCURY (TOTAL)",
         "0.2",
         "MG/KG"
        ],
        [
         "30",
         "Fish food product",
         "REDFISH",
         "MERCURY (TOTAL)",
         "0.065",
         "MG/KG"
        ],
        [
         "31",
         "Fish food product",
         "DAB",
         "MERCURY (TOTAL)",
         "0.17",
         "MG/KG"
        ],
        [
         "32",
         "Fish food product",
         "TURBOT (CULTIVATED)",
         "MERCURY (TOTAL)",
         "0.03",
         "MG/KG"
        ],
        [
         "33",
         "Plant fruit food product",
         "ORANGE JUICE",
         "MERCURY (TOTAL)",
         "0.00325",
         "MG/KG"
        ],
        [
         "34",
         "Plant fruit food product",
         "ORANGE",
         "MERCURY (TOTAL)",
         "0.00091666664",
         "MG/KG"
        ],
        [
         "35",
         "Plant fruit food product",
         "GRAPEFRUIT",
         "MERCURY (TOTAL)",
         "0.0005",
         "MG/KG"
        ],
        [
         "36",
         "Plant fruit food product",
         "LEMON",
         "MERCURY (TOTAL)",
         "0.0005",
         "MG/KG"
        ],
        [
         "37",
         "Plant fruit food product",
         "LIME",
         "MERCURY (TOTAL)",
         "0.0005",
         "MG/KG"
        ],
        [
         "38",
         "Plant fruit food product",
         "MANDARIN",
         "MERCURY (TOTAL)",
         "0.0005",
         "MG/KG"
        ],
        [
         "39",
         "Plant fruit food product",
         "POMELO (SHADDOCK)",
         "MERCURY (TOTAL)",
         "0.0005",
         "MG/KG"
        ],
        [
         "40",
         "Plant fruit food product",
         "MULTI FRUIT JUICE",
         "MERCURY (TOTAL)",
         "0.00325",
         "MG/KG"
        ],
        [
         "41",
         "Plant fruit food product",
         "APPLE JUICE",
         "MERCURY (TOTAL)",
         "0.00325",
         "MG/KG"
        ],
        [
         "42",
         "Plant fruit food product",
         "CRANBERRY JUICE",
         "MERCURY (TOTAL)",
         "0.00325",
         "MG/KG"
        ],
        [
         "43",
         "Plant fruit food product",
         "PINEAPPLE JUICE",
         "MERCURY (TOTAL)",
         "0.00325",
         "MG/KG"
        ],
        [
         "44",
         "Plant fruit food product",
         "MELON",
         "MERCURY (TOTAL)",
         "0.0008125",
         "MG/KG"
        ],
        [
         "45",
         "Plant fruit food product",
         "WATERMELON",
         "MERCURY (TOTAL)",
         "0.0005",
         "MG/KG"
        ],
        [
         "46",
         "Plant fruit food product",
         "APPLE",
         "MERCURY (TOTAL)",
         "0.0005",
         "MG/KG"
        ],
        [
         "47",
         "Plant fruit food product",
         "PEAR",
         "MERCURY (TOTAL)",
         "0.0005",
         "MG/KG"
        ],
        [
         "48",
         "Plant fruit food product",
         "YA PEAR/CHINESE WHITE PEAR",
         "MERCURY (TOTAL)",
         "0.00175",
         "MG/KG"
        ],
        [
         "49",
         "Plant fruit food product",
         "TOMATO",
         "MERCURY (TOTAL)",
         "0.0005",
         "MG/KG"
        ]
       ],
       "shape": {
        "columns": 5,
        "rows": 373
       }
      },
      "text/html": [
       "<div>\n",
       "<style scoped>\n",
       "    .dataframe tbody tr th:only-of-type {\n",
       "        vertical-align: middle;\n",
       "    }\n",
       "\n",
       "    .dataframe tbody tr th {\n",
       "        vertical-align: top;\n",
       "    }\n",
       "\n",
       "    .dataframe thead th {\n",
       "        text-align: right;\n",
       "    }\n",
       "</style>\n",
       "<table border=\"1\" class=\"dataframe\">\n",
       "  <thead>\n",
       "    <tr style=\"text-align: right;\">\n",
       "      <th></th>\n",
       "      <th>grouplabel</th>\n",
       "      <th>foodname</th>\n",
       "      <th>propertylabel</th>\n",
       "      <th>value</th>\n",
       "      <th>unitlabel</th>\n",
       "    </tr>\n",
       "  </thead>\n",
       "  <tbody>\n",
       "    <tr>\n",
       "      <th>0</th>\n",
       "      <td>Legume food product</td>\n",
       "      <td>PEANUT</td>\n",
       "      <td>MERCURY (TOTAL)</td>\n",
       "      <td>0.001650</td>\n",
       "      <td>MG/KG</td>\n",
       "    </tr>\n",
       "    <tr>\n",
       "      <th>1</th>\n",
       "      <td>Legume food product</td>\n",
       "      <td>LEGUME (FRESH)</td>\n",
       "      <td>MERCURY (TOTAL)</td>\n",
       "      <td>0.000500</td>\n",
       "      <td>MG/KG</td>\n",
       "    </tr>\n",
       "    <tr>\n",
       "      <th>2</th>\n",
       "      <td>Legume food product</td>\n",
       "      <td>PEA (WITHOUT POD)</td>\n",
       "      <td>MERCURY (TOTAL)</td>\n",
       "      <td>0.007500</td>\n",
       "      <td>MG/KG</td>\n",
       "    </tr>\n",
       "    <tr>\n",
       "      <th>3</th>\n",
       "      <td>Legume food product</td>\n",
       "      <td>PEAS (WITH PODS)</td>\n",
       "      <td>MERCURY (TOTAL)</td>\n",
       "      <td>0.001288</td>\n",
       "      <td>MG/KG</td>\n",
       "    </tr>\n",
       "    <tr>\n",
       "      <th>4</th>\n",
       "      <td>Legume food product</td>\n",
       "      <td>PEA (DRY HARVESTED)</td>\n",
       "      <td>MERCURY (TOTAL)</td>\n",
       "      <td>0.003425</td>\n",
       "      <td>MG/KG</td>\n",
       "    </tr>\n",
       "    <tr>\n",
       "      <th>...</th>\n",
       "      <td>...</td>\n",
       "      <td>...</td>\n",
       "      <td>...</td>\n",
       "      <td>...</td>\n",
       "      <td>...</td>\n",
       "    </tr>\n",
       "    <tr>\n",
       "      <th>368</th>\n",
       "      <td>Plant fruit food product</td>\n",
       "      <td>CARAMBOLA, STERVRUCHT</td>\n",
       "      <td>ARSENIC</td>\n",
       "      <td>0.001750</td>\n",
       "      <td>MG/KG</td>\n",
       "    </tr>\n",
       "    <tr>\n",
       "      <th>369</th>\n",
       "      <td>Plant fruit food product</td>\n",
       "      <td>PEACH</td>\n",
       "      <td>ARSENIC</td>\n",
       "      <td>0.007500</td>\n",
       "      <td>MG/KG</td>\n",
       "    </tr>\n",
       "    <tr>\n",
       "      <th>370</th>\n",
       "      <td>Plant fruit food product</td>\n",
       "      <td>NECTARINE</td>\n",
       "      <td>ARSENIC</td>\n",
       "      <td>0.007500</td>\n",
       "      <td>MG/KG</td>\n",
       "    </tr>\n",
       "    <tr>\n",
       "      <th>371</th>\n",
       "      <td>Plant fruit food product</td>\n",
       "      <td>APRICOT</td>\n",
       "      <td>ARSENIC</td>\n",
       "      <td>0.001750</td>\n",
       "      <td>MG/KG</td>\n",
       "    </tr>\n",
       "    <tr>\n",
       "      <th>372</th>\n",
       "      <td>Plant fruit food product</td>\n",
       "      <td>PLUM, INCLUDING DAMSON</td>\n",
       "      <td>ARSENIC</td>\n",
       "      <td>0.012750</td>\n",
       "      <td>MG/KG</td>\n",
       "    </tr>\n",
       "  </tbody>\n",
       "</table>\n",
       "<p>373 rows × 5 columns</p>\n",
       "</div>"
      ],
      "text/plain": [
       "                   grouplabel                foodname    propertylabel  \\\n",
       "0         Legume food product                  PEANUT  MERCURY (TOTAL)   \n",
       "1         Legume food product          LEGUME (FRESH)  MERCURY (TOTAL)   \n",
       "2         Legume food product       PEA (WITHOUT POD)  MERCURY (TOTAL)   \n",
       "3         Legume food product        PEAS (WITH PODS)  MERCURY (TOTAL)   \n",
       "4         Legume food product     PEA (DRY HARVESTED)  MERCURY (TOTAL)   \n",
       "..                        ...                     ...              ...   \n",
       "368  Plant fruit food product   CARAMBOLA, STERVRUCHT          ARSENIC   \n",
       "369  Plant fruit food product                   PEACH          ARSENIC   \n",
       "370  Plant fruit food product               NECTARINE          ARSENIC   \n",
       "371  Plant fruit food product                 APRICOT          ARSENIC   \n",
       "372  Plant fruit food product  PLUM, INCLUDING DAMSON          ARSENIC   \n",
       "\n",
       "        value unitlabel  \n",
       "0    0.001650     MG/KG  \n",
       "1    0.000500     MG/KG  \n",
       "2    0.007500     MG/KG  \n",
       "3    0.001288     MG/KG  \n",
       "4    0.003425     MG/KG  \n",
       "..        ...       ...  \n",
       "368  0.001750     MG/KG  \n",
       "369  0.007500     MG/KG  \n",
       "370  0.007500     MG/KG  \n",
       "371  0.001750     MG/KG  \n",
       "372  0.012750     MG/KG  \n",
       "\n",
       "[373 rows x 5 columns]"
      ]
     },
     "metadata": {},
     "output_type": "display_data"
    }
   ],
   "source": [
    "query_metal = open_query(\"queries/publication/heavy_metals_groups.rq\")\n",
    "result_metal = sparql_query_to_dataframe(query_metal, endpoint = endpoint)\n",
    "result_metal[\"value\"] = result_metal[\"value\"].astype(float)\n",
    "display(result_metal)"
   ]
  },
  {
   "cell_type": "code",
   "execution_count": 14,
   "metadata": {},
   "outputs": [
    {
     "data": {
      "application/vnd.microsoft.datawrangler.viewer.v0+json": {
       "columns": [
        {
         "name": "('grouplabel', 'propertylabel')",
         "rawType": "object",
         "type": "unknown"
        },
        {
         "name": "value",
         "rawType": "object",
         "type": "unknown"
        }
       ],
       "ref": "8f1b8ad1-7bd3-4984-80c5-43c56b3c3db5",
       "rows": [
        [
         "('Fish food product', 'ARSENIC')",
         "(np.float64(0.6), np.float64(1.9), np.float64(2.5))"
        ],
        [
         "('Fish food product', 'CADMIUM')",
         "(np.float64(0.0), np.float64(0.0), np.float64(0.0))"
        ],
        [
         "('Fish food product', 'LEAD')",
         "(np.float64(0.0), np.float64(0.0), np.float64(0.0))"
        ],
        [
         "('Fish food product', 'MERCURY (TOTAL)')",
         "(np.float64(0.0), np.float64(0.1), np.float64(0.1))"
        ],
        [
         "('Fish food product', 'NICKEL')",
         "(np.float64(0.0), np.float64(0.0), np.float64(0.0))"
        ],
        [
         "('Legume food product', 'ARSENIC')",
         "(np.float64(0.0), np.float64(0.0), np.float64(0.0))"
        ],
        [
         "('Legume food product', 'CADMIUM')",
         "(np.float64(0.0), np.float64(0.0), np.float64(0.0))"
        ],
        [
         "('Legume food product', 'LEAD')",
         "(np.float64(0.0), np.float64(0.0), np.float64(0.0))"
        ],
        [
         "('Legume food product', 'MERCURY (TOTAL)')",
         "(np.float64(0.0), np.float64(0.0), np.float64(0.0))"
        ],
        [
         "('Legume food product', 'NICKEL')",
         "(np.float64(0.2), np.float64(2.0), np.float64(3.4))"
        ],
        [
         "('Plant fruit food product', 'ARSENIC')",
         "(np.float64(0.0), np.float64(0.0), np.float64(0.0))"
        ],
        [
         "('Plant fruit food product', 'CADMIUM')",
         "(np.float64(0.0), np.float64(0.0), np.float64(0.0))"
        ],
        [
         "('Plant fruit food product', 'LEAD')",
         "(np.float64(0.0), np.float64(0.0), np.float64(0.0))"
        ],
        [
         "('Plant fruit food product', 'MERCURY (TOTAL)')",
         "(np.float64(0.0), np.float64(0.0), np.float64(0.0))"
        ],
        [
         "('Plant fruit food product', 'NICKEL')",
         "(np.float64(0.0), np.float64(0.1), np.float64(0.1))"
        ]
       ],
       "shape": {
        "columns": 1,
        "rows": 15
       }
      },
      "text/html": [
       "<div>\n",
       "<style scoped>\n",
       "    .dataframe tbody tr th:only-of-type {\n",
       "        vertical-align: middle;\n",
       "    }\n",
       "\n",
       "    .dataframe tbody tr th {\n",
       "        vertical-align: top;\n",
       "    }\n",
       "\n",
       "    .dataframe thead th {\n",
       "        text-align: right;\n",
       "    }\n",
       "</style>\n",
       "<table border=\"1\" class=\"dataframe\">\n",
       "  <thead>\n",
       "    <tr style=\"text-align: right;\">\n",
       "      <th></th>\n",
       "      <th></th>\n",
       "      <th>value</th>\n",
       "    </tr>\n",
       "    <tr>\n",
       "      <th>grouplabel</th>\n",
       "      <th>propertylabel</th>\n",
       "      <th></th>\n",
       "    </tr>\n",
       "  </thead>\n",
       "  <tbody>\n",
       "    <tr>\n",
       "      <th rowspan=\"5\" valign=\"top\">Fish food product</th>\n",
       "      <th>ARSENIC</th>\n",
       "      <td>(0.6, 1.9, 2.5)</td>\n",
       "    </tr>\n",
       "    <tr>\n",
       "      <th>CADMIUM</th>\n",
       "      <td>(0.0, 0.0, 0.0)</td>\n",
       "    </tr>\n",
       "    <tr>\n",
       "      <th>LEAD</th>\n",
       "      <td>(0.0, 0.0, 0.0)</td>\n",
       "    </tr>\n",
       "    <tr>\n",
       "      <th>MERCURY (TOTAL)</th>\n",
       "      <td>(0.0, 0.1, 0.1)</td>\n",
       "    </tr>\n",
       "    <tr>\n",
       "      <th>NICKEL</th>\n",
       "      <td>(0.0, 0.0, 0.0)</td>\n",
       "    </tr>\n",
       "    <tr>\n",
       "      <th rowspan=\"5\" valign=\"top\">Legume food product</th>\n",
       "      <th>ARSENIC</th>\n",
       "      <td>(0.0, 0.0, 0.0)</td>\n",
       "    </tr>\n",
       "    <tr>\n",
       "      <th>CADMIUM</th>\n",
       "      <td>(0.0, 0.0, 0.0)</td>\n",
       "    </tr>\n",
       "    <tr>\n",
       "      <th>LEAD</th>\n",
       "      <td>(0.0, 0.0, 0.0)</td>\n",
       "    </tr>\n",
       "    <tr>\n",
       "      <th>MERCURY (TOTAL)</th>\n",
       "      <td>(0.0, 0.0, 0.0)</td>\n",
       "    </tr>\n",
       "    <tr>\n",
       "      <th>NICKEL</th>\n",
       "      <td>(0.2, 2.0, 3.4)</td>\n",
       "    </tr>\n",
       "    <tr>\n",
       "      <th rowspan=\"5\" valign=\"top\">Plant fruit food product</th>\n",
       "      <th>ARSENIC</th>\n",
       "      <td>(0.0, 0.0, 0.0)</td>\n",
       "    </tr>\n",
       "    <tr>\n",
       "      <th>CADMIUM</th>\n",
       "      <td>(0.0, 0.0, 0.0)</td>\n",
       "    </tr>\n",
       "    <tr>\n",
       "      <th>LEAD</th>\n",
       "      <td>(0.0, 0.0, 0.0)</td>\n",
       "    </tr>\n",
       "    <tr>\n",
       "      <th>MERCURY (TOTAL)</th>\n",
       "      <td>(0.0, 0.0, 0.0)</td>\n",
       "    </tr>\n",
       "    <tr>\n",
       "      <th>NICKEL</th>\n",
       "      <td>(0.0, 0.1, 0.1)</td>\n",
       "    </tr>\n",
       "  </tbody>\n",
       "</table>\n",
       "</div>"
      ],
      "text/plain": [
       "                                                    value\n",
       "grouplabel               propertylabel                   \n",
       "Fish food product        ARSENIC          (0.6, 1.9, 2.5)\n",
       "                         CADMIUM          (0.0, 0.0, 0.0)\n",
       "                         LEAD             (0.0, 0.0, 0.0)\n",
       "                         MERCURY (TOTAL)  (0.0, 0.1, 0.1)\n",
       "                         NICKEL           (0.0, 0.0, 0.0)\n",
       "Legume food product      ARSENIC          (0.0, 0.0, 0.0)\n",
       "                         CADMIUM          (0.0, 0.0, 0.0)\n",
       "                         LEAD             (0.0, 0.0, 0.0)\n",
       "                         MERCURY (TOTAL)  (0.0, 0.0, 0.0)\n",
       "                         NICKEL           (0.2, 2.0, 3.4)\n",
       "Plant fruit food product ARSENIC          (0.0, 0.0, 0.0)\n",
       "                         CADMIUM          (0.0, 0.0, 0.0)\n",
       "                         LEAD             (0.0, 0.0, 0.0)\n",
       "                         MERCURY (TOTAL)  (0.0, 0.0, 0.0)\n",
       "                         NICKEL           (0.0, 0.1, 0.1)"
      ]
     },
     "execution_count": 14,
     "metadata": {},
     "output_type": "execute_result"
    }
   ],
   "source": [
    "# quartile calculation for (first quartile , mean, third quartile)\n",
    "iqr_table = result_metal.groupby([\"grouplabel\",\"propertylabel\"])[\"value\"].apply(calculate_iqr)\n",
    "pd.DataFrame(iqr_table)"
   ]
  },
  {
   "cell_type": "code",
   "execution_count": 15,
   "metadata": {},
   "outputs": [
    {
     "data": {
      "image/png": "[encoded data removed]",
      "text/plain": [
       "<Figure size 700x500 with 1 Axes>"
      ]
     },
     "metadata": {},
     "output_type": "display_data"
    }
   ],
   "source": [
    "import matplotlib.pyplot as plt\n",
    "# figure heavy metals\n",
    "import seaborn as sns\n",
    "\n",
    "from local_path import path_figure_4c\n",
    "\n",
    "plt.figure(figsize =(7,5))\n",
    "\n",
    "p = sns.stripplot(data=result_metal, y='grouplabel', hue = \"propertylabel\", x='value', \n",
    "                  alpha =0.9, palette= \"Set2\", order = order, size = 8)\n",
    "\n",
    "p.set(xscale = \"log\")\n",
    "\n",
    "\n",
    "sns.despine()\n",
    "\n",
    "plt.legend(loc='upper left', bbox_to_anchor=(1, 1), title='Heavy metal',     fontsize=12,        \n",
    "    title_fontsize=14,  frameon=False  ) \n",
    "\n",
    "# Add titles and labels\n",
    "plt.title('Heavy metal content distribitions in Foodon foodgroups', pad = 30, fontsize = 16, ha = \"center\")\n",
    "plt.xlabel('Heavy metal content log mg/kg',  labelpad= 20, fontsize = 16)\n",
    "plt.ylabel('FoodOn food group',  fontsize = 16)\n",
    "\n",
    "plt.xticks(fontsize=14)\n",
    "plt.yticks(fontsize=14)\n",
    "\n",
    "plt.savefig(path_figure_4c, format='svg',  bbox_inches=\"tight\")\n",
    "plt.savefig(\"figures/heavy_metal_conc_fig.svg\", format = \"svg\", bbox_inches = \"tight\")"
   ]
  },
  {
   "cell_type": "markdown",
   "metadata": {},
   "source": [
    "#### Use-case 2: Personalized nutrition\n"
   ]
  },
  {
   "cell_type": "code",
   "execution_count": 16,
   "metadata": {},
   "outputs": [
    {
     "data": {
      "application/vnd.microsoft.datawrangler.viewer.v0+json": {
       "columns": [
        {
         "name": "index",
         "rawType": "int64",
         "type": "integer"
        },
        {
         "name": "foodname",
         "rawType": "object",
         "type": "string"
        },
        {
         "name": "proteinvalue",
         "rawType": "object",
         "type": "string"
        },
        {
         "name": "nutunit",
         "rawType": "object",
         "type": "string"
        },
        {
         "name": "impactfoodname",
         "rawType": "object",
         "type": "string"
        },
        {
         "name": "roundedWarmingValue",
         "rawType": "object",
         "type": "string"
        },
        {
         "name": "impactunit",
         "rawType": "object",
         "type": "string"
        },
        {
         "name": "impactRoundProteinRatio",
         "rawType": "object",
         "type": "string"
        }
       ],
       "ref": "750864d9-b70a-479a-970c-9e348c36cf6b",
       "rows": [
        [
         "0",
         "Wheat germ",
         "31.0",
         "g",
         "wheat germ ",
         "0.95",
         "kg CO2 eq",
         "0.03"
        ],
        [
         "1",
         "Breakfast cereal porridge Olvarit fijne granen 6+ months",
         "12.4",
         "g",
         "breakfast cereal cornflakes ",
         "0.78",
         "kg CO2 eq",
         "0.06"
        ],
        [
         "2",
         "Breakfast cereal All-Bran Plus Kellogg's",
         "14.0",
         "g",
         "breakfast cereal cornflakes ",
         "0.78",
         "kg CO2 eq",
         "0.06"
        ],
        [
         "3",
         "Oatmeal",
         "12.8",
         "g",
         "oatmeal ",
         "0.96",
         "kg CO2 eq",
         "0.07"
        ],
        [
         "4",
         "Sesame seeds",
         "26.0",
         "g",
         "sesame seed ",
         "2.19",
         "kg CO2 eq",
         "0.08"
        ],
        [
         "5",
         "Linseeds",
         "19.0",
         "g",
         "linseeds ",
         "1.86",
         "kg CO2 eq",
         "0.1"
        ]
       ],
       "shape": {
        "columns": 7,
        "rows": 6
       }
      },
      "text/html": [
       "<div>\n",
       "<style scoped>\n",
       "    .dataframe tbody tr th:only-of-type {\n",
       "        vertical-align: middle;\n",
       "    }\n",
       "\n",
       "    .dataframe tbody tr th {\n",
       "        vertical-align: top;\n",
       "    }\n",
       "\n",
       "    .dataframe thead th {\n",
       "        text-align: right;\n",
       "    }\n",
       "</style>\n",
       "<table border=\"1\" class=\"dataframe\">\n",
       "  <thead>\n",
       "    <tr style=\"text-align: right;\">\n",
       "      <th></th>\n",
       "      <th>foodname</th>\n",
       "      <th>proteinvalue</th>\n",
       "      <th>nutunit</th>\n",
       "      <th>impactfoodname</th>\n",
       "      <th>roundedWarmingValue</th>\n",
       "      <th>impactunit</th>\n",
       "      <th>impactRoundProteinRatio</th>\n",
       "    </tr>\n",
       "  </thead>\n",
       "  <tbody>\n",
       "    <tr>\n",
       "      <th>0</th>\n",
       "      <td>Wheat germ</td>\n",
       "      <td>31.0</td>\n",
       "      <td>g</td>\n",
       "      <td>wheat germ</td>\n",
       "      <td>0.95</td>\n",
       "      <td>kg CO2 eq</td>\n",
       "      <td>0.03</td>\n",
       "    </tr>\n",
       "    <tr>\n",
       "      <th>1</th>\n",
       "      <td>Breakfast cereal porridge Olvarit fijne granen...</td>\n",
       "      <td>12.4</td>\n",
       "      <td>g</td>\n",
       "      <td>breakfast cereal cornflakes</td>\n",
       "      <td>0.78</td>\n",
       "      <td>kg CO2 eq</td>\n",
       "      <td>0.06</td>\n",
       "    </tr>\n",
       "    <tr>\n",
       "      <th>2</th>\n",
       "      <td>Breakfast cereal All-Bran Plus Kellogg's</td>\n",
       "      <td>14.0</td>\n",
       "      <td>g</td>\n",
       "      <td>breakfast cereal cornflakes</td>\n",
       "      <td>0.78</td>\n",
       "      <td>kg CO2 eq</td>\n",
       "      <td>0.06</td>\n",
       "    </tr>\n",
       "    <tr>\n",
       "      <th>3</th>\n",
       "      <td>Oatmeal</td>\n",
       "      <td>12.8</td>\n",
       "      <td>g</td>\n",
       "      <td>oatmeal</td>\n",
       "      <td>0.96</td>\n",
       "      <td>kg CO2 eq</td>\n",
       "      <td>0.07</td>\n",
       "    </tr>\n",
       "    <tr>\n",
       "      <th>4</th>\n",
       "      <td>Sesame seeds</td>\n",
       "      <td>26.0</td>\n",
       "      <td>g</td>\n",
       "      <td>sesame seed</td>\n",
       "      <td>2.19</td>\n",
       "      <td>kg CO2 eq</td>\n",
       "      <td>0.08</td>\n",
       "    </tr>\n",
       "    <tr>\n",
       "      <th>5</th>\n",
       "      <td>Linseeds</td>\n",
       "      <td>19.0</td>\n",
       "      <td>g</td>\n",
       "      <td>linseeds</td>\n",
       "      <td>1.86</td>\n",
       "      <td>kg CO2 eq</td>\n",
       "      <td>0.1</td>\n",
       "    </tr>\n",
       "  </tbody>\n",
       "</table>\n",
       "</div>"
      ],
      "text/plain": [
       "                                            foodname proteinvalue nutunit  \\\n",
       "0                                         Wheat germ         31.0       g   \n",
       "1  Breakfast cereal porridge Olvarit fijne granen...         12.4       g   \n",
       "2           Breakfast cereal All-Bran Plus Kellogg's         14.0       g   \n",
       "3                                            Oatmeal         12.8       g   \n",
       "4                                       Sesame seeds         26.0       g   \n",
       "5                                           Linseeds         19.0       g   \n",
       "\n",
       "                 impactfoodname roundedWarmingValue impactunit  \\\n",
       "0                   wheat germ                 0.95  kg CO2 eq   \n",
       "1  breakfast cereal cornflakes                 0.78  kg CO2 eq   \n",
       "2  breakfast cereal cornflakes                 0.78  kg CO2 eq   \n",
       "3                      oatmeal                 0.96  kg CO2 eq   \n",
       "4                  sesame seed                 2.19  kg CO2 eq   \n",
       "5                     linseeds                 1.86  kg CO2 eq   \n",
       "\n",
       "  impactRoundProteinRatio  \n",
       "0                    0.03  \n",
       "1                    0.06  \n",
       "2                    0.06  \n",
       "3                    0.07  \n",
       "4                    0.08  \n",
       "5                     0.1  "
      ]
     },
     "metadata": {},
     "output_type": "display_data"
    }
   ],
   "source": [
    "endpoint = \"http://localhost:3030/nice_food/sparql\"\n",
    "query_nut_allergy = open_query(\"queries/publication/personalized_nutrition_nut.rq\")\n",
    "result_nut_allergy = sparql_query_to_dataframe(query_nut_allergy, endpoint = endpoint)\n",
    "display(result_nut_allergy)"
   ]
  },
  {
   "cell_type": "markdown",
   "metadata": {},
   "source": [
    "#### Use-case 3, infer knowledge on similar items"
   ]
  },
  {
   "cell_type": "code",
   "execution_count": null,
   "metadata": {},
   "outputs": [],
   "source": [
    "endpoint = \"http://localhost:3030/nice_food/sparql\"\n",
    "query = open_query(\"queries/publication/taxons_available.rq\")\n",
    "results_taxons = sparql_query_to_dataframe(query, endpoint = endpoint)\n",
    "# Query takes a long time "
   ]
  },
  {
   "cell_type": "code",
   "execution_count": 17,
   "metadata": {},
   "outputs": [
    {
     "data": {
      "application/vnd.microsoft.datawrangler.viewer.v0+json": {
       "columns": [
        {
         "name": "index",
         "rawType": "int64",
         "type": "integer"
        },
        {
         "name": "ncbilabel",
         "rawType": "object",
         "type": "string"
        },
        {
         "name": "class",
         "rawType": "object",
         "type": "string"
        },
        {
         "name": "classlabel",
         "rawType": "object",
         "type": "string"
        },
        {
         "name": "queryclasslabel",
         "rawType": "object",
         "type": "string"
        },
        {
         "name": "datasetlabel",
         "rawType": "object",
         "type": "string"
        },
        {
         "name": "dataavailable",
         "rawType": "object",
         "type": "string"
        }
       ],
       "ref": "1a0bbc83-2db5-49de-9e6f-4d83547d94c7",
       "rows": [
        [
         "0",
         "Glycine max",
         "http://purl.obolibrary.org/obo/FOODON_00002265",
         "soybean seed (field) food product",
         "tofu food product",
         "tahoe soya curd ",
         "LCA data available"
        ],
        [
         "4",
         "Glycine max",
         "http://purl.obolibrary.org/obo/FOODON_00002265",
         "soybean seed (field) food product",
         "soy yogurt",
         "Yoghurt soybased w fruit/vanilla",
         "Nutrient data available"
        ],
        [
         "5",
         "Glycine max",
         "http://purl.obolibrary.org/obo/FOODON_00002265",
         "soybean seed (field) food product",
         "soy yogurt",
         "Yoghurt soybased unsweetened",
         "Nutrient data available"
        ],
        [
         "6",
         "Glycine max",
         "http://purl.obolibrary.org/obo/FOODON_00002265",
         "soybean seed (field) food product",
         "soy yogurt",
         "Yoghurt soybased",
         "Nutrient data available"
        ],
        [
         "7",
         "Glycine max",
         "http://purl.obolibrary.org/obo/FOODON_00002265",
         "soybean seed (field) food product",
         "tempeh",
         "Tempeh fermented soya beans prepared wo fat",
         "Nutrient data available"
        ],
        [
         "8",
         "Glycine max",
         "http://purl.obolibrary.org/obo/FOODON_00002265",
         "soybean seed (field) food product",
         "soy yogurt",
         "Tahoe soya curd",
         "Nutrient data available"
        ],
        [
         "9",
         "Glycine max",
         "http://purl.obolibrary.org/obo/FOODON_00002265",
         "soybean seed (field) food product",
         "soybean",
         "SOY BEAN",
         "Chemical foodsafety data available"
        ],
        [
         "10",
         "Glycine max",
         "http://purl.obolibrary.org/obo/FOODON_00002265",
         "soybean seed (field) food product",
         "miso",
         "Miso soya paste",
         "Nutrient data available"
        ],
        [
         "11",
         "Glycine max",
         "http://purl.obolibrary.org/obo/FOODON_00002265",
         "soybean seed (field) food product",
         "soybean flour",
         "Flour soya full fat",
         "Nutrient data available"
        ],
        [
         "12",
         "Glycine max",
         "http://purl.obolibrary.org/obo/FOODON_00002265",
         "soybean seed (field) food product",
         "soybean flour (defatted)",
         "Flour soya defatted",
         "Nutrient data available"
        ],
        [
         "20",
         "Glycine max",
         "http://purl.obolibrary.org/obo/FOODON_00002265",
         "soybean seed (field) food product",
         "soy yogurt",
         "Dessert soya Alpro",
         "Nutrient data available"
        ],
        [
         "21",
         "Glycine max",
         "http://purl.obolibrary.org/obo/FOODON_00002265",
         "soybean seed (field) food product",
         "soybean (dried)",
         "Beans soya dried",
         "Nutrient data available"
        ],
        [
         "22",
         "Glycine max",
         "http://purl.obolibrary.org/obo/FOODON_00002265",
         "soybean seed (field) food product",
         "soybean",
         "Beans soya boiled",
         "Nutrient data available"
        ]
       ],
       "shape": {
        "columns": 6,
        "rows": 13
       }
      },
      "text/html": [
       "<div>\n",
       "<style scoped>\n",
       "    .dataframe tbody tr th:only-of-type {\n",
       "        vertical-align: middle;\n",
       "    }\n",
       "\n",
       "    .dataframe tbody tr th {\n",
       "        vertical-align: top;\n",
       "    }\n",
       "\n",
       "    .dataframe thead th {\n",
       "        text-align: right;\n",
       "    }\n",
       "</style>\n",
       "<table border=\"1\" class=\"dataframe\">\n",
       "  <thead>\n",
       "    <tr style=\"text-align: right;\">\n",
       "      <th></th>\n",
       "      <th>ncbilabel</th>\n",
       "      <th>class</th>\n",
       "      <th>classlabel</th>\n",
       "      <th>queryclasslabel</th>\n",
       "      <th>datasetlabel</th>\n",
       "      <th>dataavailable</th>\n",
       "    </tr>\n",
       "  </thead>\n",
       "  <tbody>\n",
       "    <tr>\n",
       "      <th>0</th>\n",
       "      <td>Glycine max</td>\n",
       "      <td>http://purl.obolibrary.org/obo/FOODON_00002265</td>\n",
       "      <td>soybean seed (field) food product</td>\n",
       "      <td>tofu food product</td>\n",
       "      <td>tahoe soya curd</td>\n",
       "      <td>LCA data available</td>\n",
       "    </tr>\n",
       "    <tr>\n",
       "      <th>4</th>\n",
       "      <td>Glycine max</td>\n",
       "      <td>http://purl.obolibrary.org/obo/FOODON_00002265</td>\n",
       "      <td>soybean seed (field) food product</td>\n",
       "      <td>soy yogurt</td>\n",
       "      <td>Yoghurt soybased w fruit/vanilla</td>\n",
       "      <td>Nutrient data available</td>\n",
       "    </tr>\n",
       "    <tr>\n",
       "      <th>5</th>\n",
       "      <td>Glycine max</td>\n",
       "      <td>http://purl.obolibrary.org/obo/FOODON_00002265</td>\n",
       "      <td>soybean seed (field) food product</td>\n",
       "      <td>soy yogurt</td>\n",
       "      <td>Yoghurt soybased unsweetened</td>\n",
       "      <td>Nutrient data available</td>\n",
       "    </tr>\n",
       "    <tr>\n",
       "      <th>6</th>\n",
       "      <td>Glycine max</td>\n",
       "      <td>http://purl.obolibrary.org/obo/FOODON_00002265</td>\n",
       "      <td>soybean seed (field) food product</td>\n",
       "      <td>soy yogurt</td>\n",
       "      <td>Yoghurt soybased</td>\n",
       "      <td>Nutrient data available</td>\n",
       "    </tr>\n",
       "    <tr>\n",
       "      <th>7</th>\n",
       "      <td>Glycine max</td>\n",
       "      <td>http://purl.obolibrary.org/obo/FOODON_00002265</td>\n",
       "      <td>soybean seed (field) food product</td>\n",
       "      <td>tempeh</td>\n",
       "      <td>Tempeh fermented soya beans prepared wo fat</td>\n",
       "      <td>Nutrient data available</td>\n",
       "    </tr>\n",
       "    <tr>\n",
       "      <th>8</th>\n",
       "      <td>Glycine max</td>\n",
       "      <td>http://purl.obolibrary.org/obo/FOODON_00002265</td>\n",
       "      <td>soybean seed (field) food product</td>\n",
       "      <td>soy yogurt</td>\n",
       "      <td>Tahoe soya curd</td>\n",
       "      <td>Nutrient data available</td>\n",
       "    </tr>\n",
       "    <tr>\n",
       "      <th>9</th>\n",
       "      <td>Glycine max</td>\n",
       "      <td>http://purl.obolibrary.org/obo/FOODON_00002265</td>\n",
       "      <td>soybean seed (field) food product</td>\n",
       "      <td>soybean</td>\n",
       "      <td>SOY BEAN</td>\n",
       "      <td>Chemical foodsafety data available</td>\n",
       "    </tr>\n",
       "    <tr>\n",
       "      <th>10</th>\n",
       "      <td>Glycine max</td>\n",
       "      <td>http://purl.obolibrary.org/obo/FOODON_00002265</td>\n",
       "      <td>soybean seed (field) food product</td>\n",
       "      <td>miso</td>\n",
       "      <td>Miso soya paste</td>\n",
       "      <td>Nutrient data available</td>\n",
       "    </tr>\n",
       "    <tr>\n",
       "      <th>11</th>\n",
       "      <td>Glycine max</td>\n",
       "      <td>http://purl.obolibrary.org/obo/FOODON_00002265</td>\n",
       "      <td>soybean seed (field) food product</td>\n",
       "      <td>soybean flour</td>\n",
       "      <td>Flour soya full fat</td>\n",
       "      <td>Nutrient data available</td>\n",
       "    </tr>\n",
       "    <tr>\n",
       "      <th>12</th>\n",
       "      <td>Glycine max</td>\n",
       "      <td>http://purl.obolibrary.org/obo/FOODON_00002265</td>\n",
       "      <td>soybean seed (field) food product</td>\n",
       "      <td>soybean flour (defatted)</td>\n",
       "      <td>Flour soya defatted</td>\n",
       "      <td>Nutrient data available</td>\n",
       "    </tr>\n",
       "    <tr>\n",
       "      <th>20</th>\n",
       "      <td>Glycine max</td>\n",
       "      <td>http://purl.obolibrary.org/obo/FOODON_00002265</td>\n",
       "      <td>soybean seed (field) food product</td>\n",
       "      <td>soy yogurt</td>\n",
       "      <td>Dessert soya Alpro</td>\n",
       "      <td>Nutrient data available</td>\n",
       "    </tr>\n",
       "    <tr>\n",
       "      <th>21</th>\n",
       "      <td>Glycine max</td>\n",
       "      <td>http://purl.obolibrary.org/obo/FOODON_00002265</td>\n",
       "      <td>soybean seed (field) food product</td>\n",
       "      <td>soybean (dried)</td>\n",
       "      <td>Beans soya dried</td>\n",
       "      <td>Nutrient data available</td>\n",
       "    </tr>\n",
       "    <tr>\n",
       "      <th>22</th>\n",
       "      <td>Glycine max</td>\n",
       "      <td>http://purl.obolibrary.org/obo/FOODON_00002265</td>\n",
       "      <td>soybean seed (field) food product</td>\n",
       "      <td>soybean</td>\n",
       "      <td>Beans soya boiled</td>\n",
       "      <td>Nutrient data available</td>\n",
       "    </tr>\n",
       "  </tbody>\n",
       "</table>\n",
       "</div>"
      ],
      "text/plain": [
       "      ncbilabel                                           class  \\\n",
       "0   Glycine max  http://purl.obolibrary.org/obo/FOODON_00002265   \n",
       "4   Glycine max  http://purl.obolibrary.org/obo/FOODON_00002265   \n",
       "5   Glycine max  http://purl.obolibrary.org/obo/FOODON_00002265   \n",
       "6   Glycine max  http://purl.obolibrary.org/obo/FOODON_00002265   \n",
       "7   Glycine max  http://purl.obolibrary.org/obo/FOODON_00002265   \n",
       "8   Glycine max  http://purl.obolibrary.org/obo/FOODON_00002265   \n",
       "9   Glycine max  http://purl.obolibrary.org/obo/FOODON_00002265   \n",
       "10  Glycine max  http://purl.obolibrary.org/obo/FOODON_00002265   \n",
       "11  Glycine max  http://purl.obolibrary.org/obo/FOODON_00002265   \n",
       "12  Glycine max  http://purl.obolibrary.org/obo/FOODON_00002265   \n",
       "20  Glycine max  http://purl.obolibrary.org/obo/FOODON_00002265   \n",
       "21  Glycine max  http://purl.obolibrary.org/obo/FOODON_00002265   \n",
       "22  Glycine max  http://purl.obolibrary.org/obo/FOODON_00002265   \n",
       "\n",
       "                           classlabel           queryclasslabel  \\\n",
       "0   soybean seed (field) food product         tofu food product   \n",
       "4   soybean seed (field) food product                soy yogurt   \n",
       "5   soybean seed (field) food product                soy yogurt   \n",
       "6   soybean seed (field) food product                soy yogurt   \n",
       "7   soybean seed (field) food product                    tempeh   \n",
       "8   soybean seed (field) food product                soy yogurt   \n",
       "9   soybean seed (field) food product                   soybean   \n",
       "10  soybean seed (field) food product                      miso   \n",
       "11  soybean seed (field) food product             soybean flour   \n",
       "12  soybean seed (field) food product  soybean flour (defatted)   \n",
       "20  soybean seed (field) food product                soy yogurt   \n",
       "21  soybean seed (field) food product           soybean (dried)   \n",
       "22  soybean seed (field) food product                   soybean   \n",
       "\n",
       "                                   datasetlabel  \\\n",
       "0                              tahoe soya curd    \n",
       "4              Yoghurt soybased w fruit/vanilla   \n",
       "5                  Yoghurt soybased unsweetened   \n",
       "6                              Yoghurt soybased   \n",
       "7   Tempeh fermented soya beans prepared wo fat   \n",
       "8                               Tahoe soya curd   \n",
       "9                                      SOY BEAN   \n",
       "10                              Miso soya paste   \n",
       "11                          Flour soya full fat   \n",
       "12                          Flour soya defatted   \n",
       "20                           Dessert soya Alpro   \n",
       "21                             Beans soya dried   \n",
       "22                            Beans soya boiled   \n",
       "\n",
       "                         dataavailable  \n",
       "0                   LCA data available  \n",
       "4              Nutrient data available  \n",
       "5              Nutrient data available  \n",
       "6              Nutrient data available  \n",
       "7              Nutrient data available  \n",
       "8              Nutrient data available  \n",
       "9   Chemical foodsafety data available  \n",
       "10             Nutrient data available  \n",
       "11             Nutrient data available  \n",
       "12             Nutrient data available  \n",
       "20             Nutrient data available  \n",
       "21             Nutrient data available  \n",
       "22             Nutrient data available  "
      ]
     },
     "execution_count": 17,
     "metadata": {},
     "output_type": "execute_result"
    }
   ],
   "source": [
    "endpoint = \"http://localhost:3030/nice_food/sparql\"\n",
    "query = open_query(\"queries/publication/usecase3_glycine.rq\")\n",
    "results_glycine = sparql_query_to_dataframe(query, endpoint = endpoint)\n",
    "results_glycine = results_glycine[results_glycine[\"classlabel\"] == \"soybean seed (field) food product\"]\n",
    "results_glycine = results_glycine.dropna()\n",
    "results_glycine"
   ]
  },
  {
   "cell_type": "code",
   "execution_count": 18,
   "metadata": {},
   "outputs": [
    {
     "data": {
      "application/vnd.microsoft.datawrangler.viewer.v0+json": {
       "columns": [
        {
         "name": "index",
         "rawType": "int64",
         "type": "integer"
        },
        {
         "name": "ncbilabel",
         "rawType": "object",
         "type": "string"
        },
        {
         "name": "class",
         "rawType": "object",
         "type": "string"
        },
        {
         "name": "classlabel",
         "rawType": "object",
         "type": "string"
        },
        {
         "name": "queryclasslabel",
         "rawType": "object",
         "type": "string"
        },
        {
         "name": "datasetlabel",
         "rawType": "object",
         "type": "string"
        },
        {
         "name": "dataavailable",
         "rawType": "object",
         "type": "string"
        }
       ],
       "ref": "a1a35e2a-b5df-4869-ae45-0095d1a35b33",
       "rows": [
        [
         "0",
         "Helianthus annuus",
         "http://purl.obolibrary.org/obo/FOODON_00002294",
         "sunflower food product",
         "sunflower seed oil",
         "sunflower oil  ",
         "LCA data available"
        ],
        [
         "1",
         "Helianthus annuus",
         "http://purl.obolibrary.org/obo/FOODON_00002294",
         "sunflower food product",
         "sunflower seed oil",
         "SUNFLOWER OIL",
         "Chemical foodsafety data available"
        ],
        [
         "2",
         "Helianthus annuus",
         "http://purl.obolibrary.org/obo/FOODON_00002294",
         "sunflower food product",
         "sunflower seed (whole kernel)",
         "SUNFLOWER KERNEL",
         "Chemical foodsafety data available"
        ],
        [
         "3",
         "Helianthus annuus",
         "http://purl.obolibrary.org/obo/FOODON_00002294",
         "sunflower food product",
         "sunflower seed oil",
         "Oil sunflower seed",
         "Nutrient data available"
        ]
       ],
       "shape": {
        "columns": 6,
        "rows": 4
       }
      },
      "text/html": [
       "<div>\n",
       "<style scoped>\n",
       "    .dataframe tbody tr th:only-of-type {\n",
       "        vertical-align: middle;\n",
       "    }\n",
       "\n",
       "    .dataframe tbody tr th {\n",
       "        vertical-align: top;\n",
       "    }\n",
       "\n",
       "    .dataframe thead th {\n",
       "        text-align: right;\n",
       "    }\n",
       "</style>\n",
       "<table border=\"1\" class=\"dataframe\">\n",
       "  <thead>\n",
       "    <tr style=\"text-align: right;\">\n",
       "      <th></th>\n",
       "      <th>ncbilabel</th>\n",
       "      <th>class</th>\n",
       "      <th>classlabel</th>\n",
       "      <th>queryclasslabel</th>\n",
       "      <th>datasetlabel</th>\n",
       "      <th>dataavailable</th>\n",
       "    </tr>\n",
       "  </thead>\n",
       "  <tbody>\n",
       "    <tr>\n",
       "      <th>0</th>\n",
       "      <td>Helianthus annuus</td>\n",
       "      <td>http://purl.obolibrary.org/obo/FOODON_00002294</td>\n",
       "      <td>sunflower food product</td>\n",
       "      <td>sunflower seed oil</td>\n",
       "      <td>sunflower oil</td>\n",
       "      <td>LCA data available</td>\n",
       "    </tr>\n",
       "    <tr>\n",
       "      <th>1</th>\n",
       "      <td>Helianthus annuus</td>\n",
       "      <td>http://purl.obolibrary.org/obo/FOODON_00002294</td>\n",
       "      <td>sunflower food product</td>\n",
       "      <td>sunflower seed oil</td>\n",
       "      <td>SUNFLOWER OIL</td>\n",
       "      <td>Chemical foodsafety data available</td>\n",
       "    </tr>\n",
       "    <tr>\n",
       "      <th>2</th>\n",
       "      <td>Helianthus annuus</td>\n",
       "      <td>http://purl.obolibrary.org/obo/FOODON_00002294</td>\n",
       "      <td>sunflower food product</td>\n",
       "      <td>sunflower seed (whole kernel)</td>\n",
       "      <td>SUNFLOWER KERNEL</td>\n",
       "      <td>Chemical foodsafety data available</td>\n",
       "    </tr>\n",
       "    <tr>\n",
       "      <th>3</th>\n",
       "      <td>Helianthus annuus</td>\n",
       "      <td>http://purl.obolibrary.org/obo/FOODON_00002294</td>\n",
       "      <td>sunflower food product</td>\n",
       "      <td>sunflower seed oil</td>\n",
       "      <td>Oil sunflower seed</td>\n",
       "      <td>Nutrient data available</td>\n",
       "    </tr>\n",
       "  </tbody>\n",
       "</table>\n",
       "</div>"
      ],
      "text/plain": [
       "           ncbilabel                                           class  \\\n",
       "0  Helianthus annuus  http://purl.obolibrary.org/obo/FOODON_00002294   \n",
       "1  Helianthus annuus  http://purl.obolibrary.org/obo/FOODON_00002294   \n",
       "2  Helianthus annuus  http://purl.obolibrary.org/obo/FOODON_00002294   \n",
       "3  Helianthus annuus  http://purl.obolibrary.org/obo/FOODON_00002294   \n",
       "\n",
       "               classlabel                queryclasslabel        datasetlabel  \\\n",
       "0  sunflower food product             sunflower seed oil     sunflower oil     \n",
       "1  sunflower food product             sunflower seed oil       SUNFLOWER OIL   \n",
       "2  sunflower food product  sunflower seed (whole kernel)    SUNFLOWER KERNEL   \n",
       "3  sunflower food product             sunflower seed oil  Oil sunflower seed   \n",
       "\n",
       "                        dataavailable  \n",
       "0                  LCA data available  \n",
       "1  Chemical foodsafety data available  \n",
       "2  Chemical foodsafety data available  \n",
       "3             Nutrient data available  "
      ]
     },
     "execution_count": 18,
     "metadata": {},
     "output_type": "execute_result"
    }
   ],
   "source": [
    "endpoint = \"http://localhost:3030/nice_food/sparql\"\n",
    "query = open_query(\"queries/publication/usecase3_annuus.rq\")\n",
    "results_helianthus = sparql_query_to_dataframe(query, endpoint = endpoint)\n",
    "results_helianthus = results_helianthus.dropna()\n",
    "results_helianthus"
   ]
  },
  {
   "cell_type": "code",
   "execution_count": 19,
   "metadata": {},
   "outputs": [
    {
     "data": {
      "application/vnd.microsoft.datawrangler.viewer.v0+json": {
       "columns": [
        {
         "name": "index",
         "rawType": "int64",
         "type": "integer"
        },
        {
         "name": "ncbilabel",
         "rawType": "object",
         "type": "string"
        },
        {
         "name": "classlabel",
         "rawType": "object",
         "type": "string"
        },
        {
         "name": "queryclasslabel",
         "rawType": "object",
         "type": "string"
        },
        {
         "name": "datasetlabel",
         "rawType": "object",
         "type": "string"
        },
        {
         "name": "dataavailable",
         "rawType": "object",
         "type": "string"
        }
       ],
       "ref": "2a48943b-f082-4744-945f-6d16bb6b526f",
       "rows": [
        [
         "0",
         "Glycine max",
         "soybean seed (field) food product",
         "tofu food product",
         "tahoe soya curd ",
         "LCA data available"
        ],
        [
         "4",
         "Glycine max",
         "soybean seed (field) food product",
         "soy yogurt",
         "Yoghurt soybased w fruit/vanilla",
         "Nutrient data available"
        ],
        [
         "5",
         "Glycine max",
         "soybean seed (field) food product",
         "soy yogurt",
         "Yoghurt soybased unsweetened",
         "Nutrient data available"
        ],
        [
         "6",
         "Glycine max",
         "soybean seed (field) food product",
         "soy yogurt",
         "Yoghurt soybased",
         "Nutrient data available"
        ],
        [
         "7",
         "Glycine max",
         "soybean seed (field) food product",
         "tempeh",
         "Tempeh fermented soya beans prepared wo fat",
         "Nutrient data available"
        ],
        [
         "8",
         "Glycine max",
         "soybean seed (field) food product",
         "soy yogurt",
         "Tahoe soya curd",
         "Nutrient data available"
        ],
        [
         "9",
         "Glycine max",
         "soybean seed (field) food product",
         "soybean",
         "SOY BEAN",
         "Chemical foodsafety data available"
        ],
        [
         "10",
         "Glycine max",
         "soybean seed (field) food product",
         "miso",
         "Miso soya paste",
         "Nutrient data available"
        ],
        [
         "11",
         "Glycine max",
         "soybean seed (field) food product",
         "soybean flour",
         "Flour soya full fat",
         "Nutrient data available"
        ],
        [
         "12",
         "Glycine max",
         "soybean seed (field) food product",
         "soybean flour (defatted)",
         "Flour soya defatted",
         "Nutrient data available"
        ],
        [
         "20",
         "Glycine max",
         "soybean seed (field) food product",
         "soy yogurt",
         "Dessert soya Alpro",
         "Nutrient data available"
        ],
        [
         "21",
         "Glycine max",
         "soybean seed (field) food product",
         "soybean (dried)",
         "Beans soya dried",
         "Nutrient data available"
        ],
        [
         "22",
         "Glycine max",
         "soybean seed (field) food product",
         "soybean",
         "Beans soya boiled",
         "Nutrient data available"
        ],
        [
         "0",
         "Helianthus annuus",
         "sunflower food product",
         "sunflower seed oil",
         "sunflower oil  ",
         "LCA data available"
        ],
        [
         "1",
         "Helianthus annuus",
         "sunflower food product",
         "sunflower seed oil",
         "SUNFLOWER OIL",
         "Chemical foodsafety data available"
        ],
        [
         "2",
         "Helianthus annuus",
         "sunflower food product",
         "sunflower seed (whole kernel)",
         "SUNFLOWER KERNEL",
         "Chemical foodsafety data available"
        ],
        [
         "3",
         "Helianthus annuus",
         "sunflower food product",
         "sunflower seed oil",
         "Oil sunflower seed",
         "Nutrient data available"
        ]
       ],
       "shape": {
        "columns": 5,
        "rows": 17
       }
      },
      "text/html": [
       "<div>\n",
       "<style scoped>\n",
       "    .dataframe tbody tr th:only-of-type {\n",
       "        vertical-align: middle;\n",
       "    }\n",
       "\n",
       "    .dataframe tbody tr th {\n",
       "        vertical-align: top;\n",
       "    }\n",
       "\n",
       "    .dataframe thead th {\n",
       "        text-align: right;\n",
       "    }\n",
       "</style>\n",
       "<table border=\"1\" class=\"dataframe\">\n",
       "  <thead>\n",
       "    <tr style=\"text-align: right;\">\n",
       "      <th></th>\n",
       "      <th>ncbilabel</th>\n",
       "      <th>classlabel</th>\n",
       "      <th>queryclasslabel</th>\n",
       "      <th>datasetlabel</th>\n",
       "      <th>dataavailable</th>\n",
       "    </tr>\n",
       "  </thead>\n",
       "  <tbody>\n",
       "    <tr>\n",
       "      <th>0</th>\n",
       "      <td>Glycine max</td>\n",
       "      <td>soybean seed (field) food product</td>\n",
       "      <td>tofu food product</td>\n",
       "      <td>tahoe soya curd</td>\n",
       "      <td>LCA data available</td>\n",
       "    </tr>\n",
       "    <tr>\n",
       "      <th>4</th>\n",
       "      <td>Glycine max</td>\n",
       "      <td>soybean seed (field) food product</td>\n",
       "      <td>soy yogurt</td>\n",
       "      <td>Yoghurt soybased w fruit/vanilla</td>\n",
       "      <td>Nutrient data available</td>\n",
       "    </tr>\n",
       "    <tr>\n",
       "      <th>5</th>\n",
       "      <td>Glycine max</td>\n",
       "      <td>soybean seed (field) food product</td>\n",
       "      <td>soy yogurt</td>\n",
       "      <td>Yoghurt soybased unsweetened</td>\n",
       "      <td>Nutrient data available</td>\n",
       "    </tr>\n",
       "    <tr>\n",
       "      <th>6</th>\n",
       "      <td>Glycine max</td>\n",
       "      <td>soybean seed (field) food product</td>\n",
       "      <td>soy yogurt</td>\n",
       "      <td>Yoghurt soybased</td>\n",
       "      <td>Nutrient data available</td>\n",
       "    </tr>\n",
       "    <tr>\n",
       "      <th>7</th>\n",
       "      <td>Glycine max</td>\n",
       "      <td>soybean seed (field) food product</td>\n",
       "      <td>tempeh</td>\n",
       "      <td>Tempeh fermented soya beans prepared wo fat</td>\n",
       "      <td>Nutrient data available</td>\n",
       "    </tr>\n",
       "    <tr>\n",
       "      <th>8</th>\n",
       "      <td>Glycine max</td>\n",
       "      <td>soybean seed (field) food product</td>\n",
       "      <td>soy yogurt</td>\n",
       "      <td>Tahoe soya curd</td>\n",
       "      <td>Nutrient data available</td>\n",
       "    </tr>\n",
       "    <tr>\n",
       "      <th>9</th>\n",
       "      <td>Glycine max</td>\n",
       "      <td>soybean seed (field) food product</td>\n",
       "      <td>soybean</td>\n",
       "      <td>SOY BEAN</td>\n",
       "      <td>Chemical foodsafety data available</td>\n",
       "    </tr>\n",
       "    <tr>\n",
       "      <th>10</th>\n",
       "      <td>Glycine max</td>\n",
       "      <td>soybean seed (field) food product</td>\n",
       "      <td>miso</td>\n",
       "      <td>Miso soya paste</td>\n",
       "      <td>Nutrient data available</td>\n",
       "    </tr>\n",
       "    <tr>\n",
       "      <th>11</th>\n",
       "      <td>Glycine max</td>\n",
       "      <td>soybean seed (field) food product</td>\n",
       "      <td>soybean flour</td>\n",
       "      <td>Flour soya full fat</td>\n",
       "      <td>Nutrient data available</td>\n",
       "    </tr>\n",
       "    <tr>\n",
       "      <th>12</th>\n",
       "      <td>Glycine max</td>\n",
       "      <td>soybean seed (field) food product</td>\n",
       "      <td>soybean flour (defatted)</td>\n",
       "      <td>Flour soya defatted</td>\n",
       "      <td>Nutrient data available</td>\n",
       "    </tr>\n",
       "    <tr>\n",
       "      <th>20</th>\n",
       "      <td>Glycine max</td>\n",
       "      <td>soybean seed (field) food product</td>\n",
       "      <td>soy yogurt</td>\n",
       "      <td>Dessert soya Alpro</td>\n",
       "      <td>Nutrient data available</td>\n",
       "    </tr>\n",
       "    <tr>\n",
       "      <th>21</th>\n",
       "      <td>Glycine max</td>\n",
       "      <td>soybean seed (field) food product</td>\n",
       "      <td>soybean (dried)</td>\n",
       "      <td>Beans soya dried</td>\n",
       "      <td>Nutrient data available</td>\n",
       "    </tr>\n",
       "    <tr>\n",
       "      <th>22</th>\n",
       "      <td>Glycine max</td>\n",
       "      <td>soybean seed (field) food product</td>\n",
       "      <td>soybean</td>\n",
       "      <td>Beans soya boiled</td>\n",
       "      <td>Nutrient data available</td>\n",
       "    </tr>\n",
       "    <tr>\n",
       "      <th>0</th>\n",
       "      <td>Helianthus annuus</td>\n",
       "      <td>sunflower food product</td>\n",
       "      <td>sunflower seed oil</td>\n",
       "      <td>sunflower oil</td>\n",
       "      <td>LCA data available</td>\n",
       "    </tr>\n",
       "    <tr>\n",
       "      <th>1</th>\n",
       "      <td>Helianthus annuus</td>\n",
       "      <td>sunflower food product</td>\n",
       "      <td>sunflower seed oil</td>\n",
       "      <td>SUNFLOWER OIL</td>\n",
       "      <td>Chemical foodsafety data available</td>\n",
       "    </tr>\n",
       "    <tr>\n",
       "      <th>2</th>\n",
       "      <td>Helianthus annuus</td>\n",
       "      <td>sunflower food product</td>\n",
       "      <td>sunflower seed (whole kernel)</td>\n",
       "      <td>SUNFLOWER KERNEL</td>\n",
       "      <td>Chemical foodsafety data available</td>\n",
       "    </tr>\n",
       "    <tr>\n",
       "      <th>3</th>\n",
       "      <td>Helianthus annuus</td>\n",
       "      <td>sunflower food product</td>\n",
       "      <td>sunflower seed oil</td>\n",
       "      <td>Oil sunflower seed</td>\n",
       "      <td>Nutrient data available</td>\n",
       "    </tr>\n",
       "  </tbody>\n",
       "</table>\n",
       "</div>"
      ],
      "text/plain": [
       "            ncbilabel                         classlabel  \\\n",
       "0         Glycine max  soybean seed (field) food product   \n",
       "4         Glycine max  soybean seed (field) food product   \n",
       "5         Glycine max  soybean seed (field) food product   \n",
       "6         Glycine max  soybean seed (field) food product   \n",
       "7         Glycine max  soybean seed (field) food product   \n",
       "8         Glycine max  soybean seed (field) food product   \n",
       "9         Glycine max  soybean seed (field) food product   \n",
       "10        Glycine max  soybean seed (field) food product   \n",
       "11        Glycine max  soybean seed (field) food product   \n",
       "12        Glycine max  soybean seed (field) food product   \n",
       "20        Glycine max  soybean seed (field) food product   \n",
       "21        Glycine max  soybean seed (field) food product   \n",
       "22        Glycine max  soybean seed (field) food product   \n",
       "0   Helianthus annuus             sunflower food product   \n",
       "1   Helianthus annuus             sunflower food product   \n",
       "2   Helianthus annuus             sunflower food product   \n",
       "3   Helianthus annuus             sunflower food product   \n",
       "\n",
       "                  queryclasslabel  \\\n",
       "0               tofu food product   \n",
       "4                      soy yogurt   \n",
       "5                      soy yogurt   \n",
       "6                      soy yogurt   \n",
       "7                          tempeh   \n",
       "8                      soy yogurt   \n",
       "9                         soybean   \n",
       "10                           miso   \n",
       "11                  soybean flour   \n",
       "12       soybean flour (defatted)   \n",
       "20                     soy yogurt   \n",
       "21                soybean (dried)   \n",
       "22                        soybean   \n",
       "0              sunflower seed oil   \n",
       "1              sunflower seed oil   \n",
       "2   sunflower seed (whole kernel)   \n",
       "3              sunflower seed oil   \n",
       "\n",
       "                                   datasetlabel  \\\n",
       "0                              tahoe soya curd    \n",
       "4              Yoghurt soybased w fruit/vanilla   \n",
       "5                  Yoghurt soybased unsweetened   \n",
       "6                              Yoghurt soybased   \n",
       "7   Tempeh fermented soya beans prepared wo fat   \n",
       "8                               Tahoe soya curd   \n",
       "9                                      SOY BEAN   \n",
       "10                              Miso soya paste   \n",
       "11                          Flour soya full fat   \n",
       "12                          Flour soya defatted   \n",
       "20                           Dessert soya Alpro   \n",
       "21                             Beans soya dried   \n",
       "22                            Beans soya boiled   \n",
       "0                               sunflower oil     \n",
       "1                                 SUNFLOWER OIL   \n",
       "2                              SUNFLOWER KERNEL   \n",
       "3                            Oil sunflower seed   \n",
       "\n",
       "                         dataavailable  \n",
       "0                   LCA data available  \n",
       "4              Nutrient data available  \n",
       "5              Nutrient data available  \n",
       "6              Nutrient data available  \n",
       "7              Nutrient data available  \n",
       "8              Nutrient data available  \n",
       "9   Chemical foodsafety data available  \n",
       "10             Nutrient data available  \n",
       "11             Nutrient data available  \n",
       "12             Nutrient data available  \n",
       "20             Nutrient data available  \n",
       "21             Nutrient data available  \n",
       "22             Nutrient data available  \n",
       "0                   LCA data available  \n",
       "1   Chemical foodsafety data available  \n",
       "2   Chemical foodsafety data available  \n",
       "3              Nutrient data available  "
      ]
     },
     "execution_count": 19,
     "metadata": {},
     "output_type": "execute_result"
    }
   ],
   "source": [
    "final_usecase = pd.concat([results_glycine, results_helianthus])\n",
    "final_usecase = final_usecase[[\"ncbilabel\", \"classlabel\", \"queryclasslabel\", \"datasetlabel\", \"dataavailable\"]]\n",
    "final_usecase"
   ]
  },
  {
   "cell_type": "code",
   "execution_count": null,
   "metadata": {},
   "outputs": [],
   "source": []
  }
 ],
 "metadata": {
  "kernelspec": {
   "display_name": "Python 3",
   "language": "python",
   "name": "python3"
  },
  "language_info": {
   "codemirror_mode": {
    "name": "ipython",
    "version": 3
   },
   "file_extension": ".py",
   "mimetype": "text/x-python",
   "name": "python",
   "nbconvert_exporter": "python",
   "pygments_lexer": "ipython3",
   "version": "3.11.13"
  }
 },
 "nbformat": 4,
 "nbformat_minor": 4
}
